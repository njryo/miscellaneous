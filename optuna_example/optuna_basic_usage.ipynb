{
 "cells": [
  {
   "cell_type": "markdown",
   "metadata": {},
   "source": [
    "# Optuna example"
   ]
  },
  {
   "cell_type": "code",
   "execution_count": 1,
   "metadata": {},
   "outputs": [],
   "source": [
    "import numpy as np\n",
    "import matplotlib.pyplot as plt\n",
    "import seaborn as sns\n",
    "\n",
    "import optuna\n",
    "\n",
    "%matplotlib inline\n",
    "sns.set()"
   ]
  },
  {
   "cell_type": "markdown",
   "metadata": {},
   "source": [
    "## example 1: one variable function"
   ]
  },
  {
   "cell_type": "code",
   "execution_count": 2,
   "metadata": {},
   "outputs": [
    {
     "data": {
      "image/png": "[encoded data removed]",
      "text/plain": [
       "<Figure size 432x288 with 1 Axes>"
      ]
     },
     "metadata": {
      "needs_background": "light"
     },
     "output_type": "display_data"
    }
   ],
   "source": [
    "x = np.linspace(-1, 4, 100)\n",
    "plt.plot(x, (x - 3)**2 * (x**2 + 0.5));"
   ]
  },
  {
   "cell_type": "code",
   "execution_count": 3,
   "metadata": {},
   "outputs": [
    {
     "name": "stderr",
     "output_type": "stream",
     "text": [
      "[I 2019-01-14 01:10:26,264] Finished a trial resulted in value: 15.800125396476002. Current best value is 15.800125396476002 with parameters: {'x': -0.7787878115914229}.\n",
      "[I 2019-01-14 01:10:26,276] Finished a trial resulted in value: 1.8761571876701697. Current best value is 1.8761571876701697 with parameters: {'x': 3.3949807414725504}.\n",
      "[I 2019-01-14 01:10:26,288] Finished a trial resulted in value: 0.5827823749264773. Current best value is 0.5827823749264773 with parameters: {'x': 2.7292267658859353}.\n",
      "[I 2019-01-14 01:10:26,301] Finished a trial resulted in value: 6.162607219399175. Current best value is 0.5827823749264773 with parameters: {'x': 2.7292267658859353}.\n",
      "[I 2019-01-14 01:10:26,308] Finished a trial resulted in value: 5.315473065913828. Current best value is 0.5827823749264773 with parameters: {'x': 2.7292267658859353}.\n",
      "[I 2019-01-14 01:10:26,316] Finished a trial resulted in value: 6.17226319151146. Current best value is 0.5827823749264773 with parameters: {'x': 2.7292267658859353}.\n",
      "[I 2019-01-14 01:10:26,321] Finished a trial resulted in value: 4.301494694880347. Current best value is 0.5827823749264773 with parameters: {'x': 2.7292267658859353}.\n",
      "[I 2019-01-14 01:10:26,327] Finished a trial resulted in value: 1.4852421441780028. Current best value is 0.5827823749264773 with parameters: {'x': 2.7292267658859353}.\n",
      "[I 2019-01-14 01:10:26,332] Finished a trial resulted in value: 4.3067805581916865. Current best value is 0.5827823749264773 with parameters: {'x': 2.7292267658859353}.\n",
      "[I 2019-01-14 01:10:26,350] Finished a trial resulted in value: 4.828593855659938. Current best value is 0.5827823749264773 with parameters: {'x': 2.7292267658859353}.\n",
      "[I 2019-01-14 01:10:26,364] Finished a trial resulted in value: 14.791897351280603. Current best value is 0.5827823749264773 with parameters: {'x': 2.7292267658859353}.\n",
      "[I 2019-01-14 01:10:26,373] Finished a trial resulted in value: 0.21482492887452623. Current best value is 0.21482492887452623 with parameters: {'x': 2.8417239238445875}.\n",
      "[I 2019-01-14 01:10:26,385] Finished a trial resulted in value: 1.8750353992727486. Current best value is 0.21482492887452623 with parameters: {'x': 2.8417239238445875}.\n",
      "[I 2019-01-14 01:10:26,393] Finished a trial resulted in value: 0.38110130925652774. Current best value is 0.21482492887452623 with parameters: {'x': 2.8417239238445875}.\n",
      "[I 2019-01-14 01:10:26,407] Finished a trial resulted in value: 4.335409710842047. Current best value is 0.21482492887452623 with parameters: {'x': 2.8417239238445875}.\n",
      "[I 2019-01-14 01:10:26,417] Finished a trial resulted in value: 5.92050843516816. Current best value is 0.21482492887452623 with parameters: {'x': 2.8417239238445875}.\n",
      "[I 2019-01-14 01:10:26,427] Finished a trial resulted in value: 3.896185888488396. Current best value is 0.21482492887452623 with parameters: {'x': 2.8417239238445875}.\n",
      "[I 2019-01-14 01:10:26,443] Finished a trial resulted in value: 0.0813040242500723. Current best value is 0.0813040242500723 with parameters: {'x': 3.0899539416230963}.\n",
      "[I 2019-01-14 01:10:26,452] Finished a trial resulted in value: 13.378728393644328. Current best value is 0.0813040242500723 with parameters: {'x': 3.0899539416230963}.\n",
      "[I 2019-01-14 01:10:26,462] Finished a trial resulted in value: 0.05597733321344319. Current best value is 0.05597733321344319 with parameters: {'x': 2.9212829880870634}.\n",
      "[I 2019-01-14 01:10:26,481] Finished a trial resulted in value: 4.262043619729914. Current best value is 0.05597733321344319 with parameters: {'x': 2.9212829880870634}.\n",
      "[I 2019-01-14 01:10:26,492] Finished a trial resulted in value: 4.125330022174269. Current best value is 0.05597733321344319 with parameters: {'x': 2.9212829880870634}.\n",
      "[I 2019-01-14 01:10:26,503] Finished a trial resulted in value: 5.926339213592844. Current best value is 0.05597733321344319 with parameters: {'x': 2.9212829880870634}.\n",
      "[I 2019-01-14 01:10:26,515] Finished a trial resulted in value: 0.06820185311285366. Current best value is 0.05597733321344319 with parameters: {'x': 2.9212829880870634}.\n",
      "[I 2019-01-14 01:10:26,526] Finished a trial resulted in value: 6.086077101888382. Current best value is 0.05597733321344319 with parameters: {'x': 2.9212829880870634}.\n",
      "[I 2019-01-14 01:10:26,538] Finished a trial resulted in value: 6.147345389185371. Current best value is 0.05597733321344319 with parameters: {'x': 2.9212829880870634}.\n",
      "[I 2019-01-14 01:10:26,552] Finished a trial resulted in value: 3.330059705815509. Current best value is 0.05597733321344319 with parameters: {'x': 2.9212829880870634}.\n",
      "[I 2019-01-14 01:10:26,562] Finished a trial resulted in value: 5.597266133628765. Current best value is 0.05597733321344319 with parameters: {'x': 2.9212829880870634}.\n",
      "[I 2019-01-14 01:10:26,575] Finished a trial resulted in value: 0.009314655731460909. Current best value is 0.009314655731460909 with parameters: {'x': 3.031009045566883}.\n",
      "[I 2019-01-14 01:10:26,588] Finished a trial resulted in value: 14.40882477723885. Current best value is 0.009314655731460909 with parameters: {'x': 3.031009045566883}.\n",
      "[I 2019-01-14 01:10:26,603] Finished a trial resulted in value: 1.9400538943669543. Current best value is 0.009314655731460909 with parameters: {'x': 3.031009045566883}.\n",
      "[I 2019-01-14 01:10:26,620] Finished a trial resulted in value: 0.19609976152639477. Current best value is 0.009314655731460909 with parameters: {'x': 3.031009045566883}.\n",
      "[I 2019-01-14 01:10:26,641] Finished a trial resulted in value: 20.225340582540394. Current best value is 0.009314655731460909 with parameters: {'x': 3.031009045566883}.\n",
      "[I 2019-01-14 01:10:26,655] Finished a trial resulted in value: 2.3072589237488614. Current best value is 0.009314655731460909 with parameters: {'x': 3.031009045566883}.\n",
      "[I 2019-01-14 01:10:26,669] Finished a trial resulted in value: 5.455958446555464. Current best value is 0.009314655731460909 with parameters: {'x': 3.031009045566883}.\n",
      "[I 2019-01-14 01:10:26,680] Finished a trial resulted in value: 0.7509454437660412. Current best value is 0.009314655731460909 with parameters: {'x': 3.031009045566883}.\n",
      "[I 2019-01-14 01:10:26,694] Finished a trial resulted in value: 6.298717659347912. Current best value is 0.009314655731460909 with parameters: {'x': 3.031009045566883}.\n",
      "[I 2019-01-14 01:10:26,708] Finished a trial resulted in value: 7.405489908831759. Current best value is 0.009314655731460909 with parameters: {'x': 3.031009045566883}.\n",
      "[I 2019-01-14 01:10:26,720] Finished a trial resulted in value: 1.1658410533909573. Current best value is 0.009314655731460909 with parameters: {'x': 3.031009045566883}.\n",
      "[I 2019-01-14 01:10:26,731] Finished a trial resulted in value: 5.894719377233356. Current best value is 0.009314655731460909 with parameters: {'x': 3.031009045566883}.\n",
      "[I 2019-01-14 01:10:26,748] Finished a trial resulted in value: 6.319417720963189. Current best value is 0.009314655731460909 with parameters: {'x': 3.031009045566883}.\n",
      "[I 2019-01-14 01:10:26,761] Finished a trial resulted in value: 0.026025953509339256. Current best value is 0.009314655731460909 with parameters: {'x': 3.031009045566883}.\n",
      "[I 2019-01-14 01:10:26,774] Finished a trial resulted in value: 1.1144978346037802. Current best value is 0.009314655731460909 with parameters: {'x': 3.031009045566883}.\n",
      "[I 2019-01-14 01:10:26,793] Finished a trial resulted in value: 2.798060358095911. Current best value is 0.009314655731460909 with parameters: {'x': 3.031009045566883}.\n",
      "[I 2019-01-14 01:10:26,809] Finished a trial resulted in value: 5.305609666167007. Current best value is 0.009314655731460909 with parameters: {'x': 3.031009045566883}.\n",
      "[I 2019-01-14 01:10:26,826] Finished a trial resulted in value: 6.489534851979484. Current best value is 0.009314655731460909 with parameters: {'x': 3.031009045566883}.\n",
      "[I 2019-01-14 01:10:26,841] Finished a trial resulted in value: 2.8755046622798615. Current best value is 0.009314655731460909 with parameters: {'x': 3.031009045566883}.\n",
      "[I 2019-01-14 01:10:26,855] Finished a trial resulted in value: 8.83659013725256. Current best value is 0.009314655731460909 with parameters: {'x': 3.031009045566883}.\n"
     ]
    },
    {
     "name": "stderr",
     "output_type": "stream",
     "text": [
      "[I 2019-01-14 01:10:26,874] Finished a trial resulted in value: 4.295434865730363. Current best value is 0.009314655731460909 with parameters: {'x': 3.031009045566883}.\n",
      "[I 2019-01-14 01:10:26,888] Finished a trial resulted in value: 0.35953063622865694. Current best value is 0.009314655731460909 with parameters: {'x': 3.031009045566883}.\n",
      "[I 2019-01-14 01:10:26,904] Finished a trial resulted in value: 6.280782867789595. Current best value is 0.009314655731460909 with parameters: {'x': 3.031009045566883}.\n",
      "[I 2019-01-14 01:10:26,921] Finished a trial resulted in value: 0.15429421649470468. Current best value is 0.009314655731460909 with parameters: {'x': 3.031009045566883}.\n",
      "[I 2019-01-14 01:10:26,939] Finished a trial resulted in value: 4.871051787242404. Current best value is 0.009314655731460909 with parameters: {'x': 3.031009045566883}.\n",
      "[I 2019-01-14 01:10:26,956] Finished a trial resulted in value: 1.7507907601562327. Current best value is 0.009314655731460909 with parameters: {'x': 3.031009045566883}.\n",
      "[I 2019-01-14 01:10:26,985] Finished a trial resulted in value: 16.36985918598457. Current best value is 0.009314655731460909 with parameters: {'x': 3.031009045566883}.\n",
      "[I 2019-01-14 01:10:27,003] Finished a trial resulted in value: 0.006976850804293527. Current best value is 0.006976850804293527 with parameters: {'x': 2.9726641699826426}.\n",
      "[I 2019-01-14 01:10:27,019] Finished a trial resulted in value: 0.8756385313076831. Current best value is 0.006976850804293527 with parameters: {'x': 2.9726641699826426}.\n",
      "[I 2019-01-14 01:10:27,033] Finished a trial resulted in value: 3.6218659291895072. Current best value is 0.006976850804293527 with parameters: {'x': 2.9726641699826426}.\n",
      "[I 2019-01-14 01:10:27,048] Finished a trial resulted in value: 5.028883837641119. Current best value is 0.006976850804293527 with parameters: {'x': 2.9726641699826426}.\n",
      "[I 2019-01-14 01:10:27,073] Finished a trial resulted in value: 4.258298015726286. Current best value is 0.006976850804293527 with parameters: {'x': 2.9726641699826426}.\n",
      "[I 2019-01-14 01:10:27,095] Finished a trial resulted in value: 6.164798325908124. Current best value is 0.006976850804293527 with parameters: {'x': 2.9726641699826426}.\n",
      "[I 2019-01-14 01:10:27,119] Finished a trial resulted in value: 0.5720420492928351. Current best value is 0.006976850804293527 with parameters: {'x': 2.9726641699826426}.\n",
      "[I 2019-01-14 01:10:27,140] Finished a trial resulted in value: 10.16278597735191. Current best value is 0.006976850804293527 with parameters: {'x': 2.9726641699826426}.\n",
      "[I 2019-01-14 01:10:27,164] Finished a trial resulted in value: 0.001268476321749067. Current best value is 0.001268476321749067 with parameters: {'x': 2.988402277490409}.\n",
      "[I 2019-01-14 01:10:27,182] Finished a trial resulted in value: 4.912509609283747. Current best value is 0.001268476321749067 with parameters: {'x': 2.988402277490409}.\n",
      "[I 2019-01-14 01:10:27,202] Finished a trial resulted in value: 0.0024992466850768395. Current best value is 0.001268476321749067 with parameters: {'x': 2.988402277490409}.\n",
      "[I 2019-01-14 01:10:27,222] Finished a trial resulted in value: 2.614851794935175. Current best value is 0.001268476321749067 with parameters: {'x': 2.988402277490409}.\n",
      "[I 2019-01-14 01:10:27,241] Finished a trial resulted in value: 0.022332585440317246. Current best value is 0.001268476321749067 with parameters: {'x': 2.988402277490409}.\n",
      "[I 2019-01-14 01:10:27,262] Finished a trial resulted in value: 0.5989646914871924. Current best value is 0.001268476321749067 with parameters: {'x': 2.988402277490409}.\n",
      "[I 2019-01-14 01:10:27,286] Finished a trial resulted in value: 0.44039517056839894. Current best value is 0.001268476321749067 with parameters: {'x': 2.988402277490409}.\n",
      "[I 2019-01-14 01:10:27,308] Finished a trial resulted in value: 4.21280497565517. Current best value is 0.001268476321749067 with parameters: {'x': 2.988402277490409}.\n",
      "[I 2019-01-14 01:10:27,341] Finished a trial resulted in value: 1.7468654148908633. Current best value is 0.001268476321749067 with parameters: {'x': 2.988402277490409}.\n",
      "[I 2019-01-14 01:10:27,364] Finished a trial resulted in value: 1.9164917683195466. Current best value is 0.001268476321749067 with parameters: {'x': 2.988402277490409}.\n",
      "[I 2019-01-14 01:10:27,388] Finished a trial resulted in value: 3.7949199139578065. Current best value is 0.001268476321749067 with parameters: {'x': 2.988402277490409}.\n",
      "[I 2019-01-14 01:10:27,410] Finished a trial resulted in value: 1.1840720418416273. Current best value is 0.001268476321749067 with parameters: {'x': 2.988402277490409}.\n",
      "[I 2019-01-14 01:10:27,429] Finished a trial resulted in value: 4.7582808906174865. Current best value is 0.001268476321749067 with parameters: {'x': 2.988402277490409}.\n",
      "[I 2019-01-14 01:10:27,450] Finished a trial resulted in value: 5.772401060973272. Current best value is 0.001268476321749067 with parameters: {'x': 2.988402277490409}.\n",
      "[I 2019-01-14 01:10:27,472] Finished a trial resulted in value: 5.869108586583506. Current best value is 0.001268476321749067 with parameters: {'x': 2.988402277490409}.\n",
      "[I 2019-01-14 01:10:27,494] Finished a trial resulted in value: 5.673507298857919. Current best value is 0.001268476321749067 with parameters: {'x': 2.988402277490409}.\n",
      "[I 2019-01-14 01:10:27,519] Finished a trial resulted in value: 1.2690487704455453e-05. Current best value is 1.2690487704455453e-05 with parameters: {'x': 3.001155364256978}.\n",
      "[I 2019-01-14 01:10:27,545] Finished a trial resulted in value: 10.606451428015015. Current best value is 1.2690487704455453e-05 with parameters: {'x': 3.001155364256978}.\n",
      "[I 2019-01-14 01:10:27,572] Finished a trial resulted in value: 0.40146614243167167. Current best value is 1.2690487704455453e-05 with parameters: {'x': 3.001155364256978}.\n",
      "[I 2019-01-14 01:10:27,596] Finished a trial resulted in value: 0.3559078306961517. Current best value is 1.2690487704455453e-05 with parameters: {'x': 3.001155364256978}.\n",
      "[I 2019-01-14 01:10:27,618] Finished a trial resulted in value: 2.832080268149173. Current best value is 1.2690487704455453e-05 with parameters: {'x': 3.001155364256978}.\n",
      "[I 2019-01-14 01:10:27,645] Finished a trial resulted in value: 6.32743367963882. Current best value is 1.2690487704455453e-05 with parameters: {'x': 3.001155364256978}.\n",
      "[I 2019-01-14 01:10:27,672] Finished a trial resulted in value: 0.9592444585995435. Current best value is 1.2690487704455453e-05 with parameters: {'x': 3.001155364256978}.\n",
      "[I 2019-01-14 01:10:27,702] Finished a trial resulted in value: 0.12855207154008508. Current best value is 1.2690487704455453e-05 with parameters: {'x': 3.001155364256978}.\n",
      "[I 2019-01-14 01:10:27,724] Finished a trial resulted in value: 1.354089802969431. Current best value is 1.2690487704455453e-05 with parameters: {'x': 3.001155364256978}.\n",
      "[I 2019-01-14 01:10:27,750] Finished a trial resulted in value: 3.2132673207109184. Current best value is 1.2690487704455453e-05 with parameters: {'x': 3.001155364256978}.\n",
      "[I 2019-01-14 01:10:27,770] Finished a trial resulted in value: 4.679322305877034. Current best value is 1.2690487704455453e-05 with parameters: {'x': 3.001155364256978}.\n",
      "[I 2019-01-14 01:10:27,795] Finished a trial resulted in value: 11.463274947068602. Current best value is 1.2690487704455453e-05 with parameters: {'x': 3.001155364256978}.\n",
      "[I 2019-01-14 01:10:27,826] Finished a trial resulted in value: 2.5177447881746287. Current best value is 1.2690487704455453e-05 with parameters: {'x': 3.001155364256978}.\n",
      "[I 2019-01-14 01:10:27,862] Finished a trial resulted in value: 2.0875195270718105. Current best value is 1.2690487704455453e-05 with parameters: {'x': 3.001155364256978}.\n",
      "[I 2019-01-14 01:10:27,886] Finished a trial resulted in value: 4.385249830898556. Current best value is 1.2690487704455453e-05 with parameters: {'x': 3.001155364256978}.\n",
      "[I 2019-01-14 01:10:27,909] Finished a trial resulted in value: 6.000434666734604. Current best value is 1.2690487704455453e-05 with parameters: {'x': 3.001155364256978}.\n"
     ]
    },
    {
     "name": "stderr",
     "output_type": "stream",
     "text": [
      "[I 2019-01-14 01:10:27,935] Finished a trial resulted in value: 0.0002391403665958168. Current best value is 1.2690487704455453e-05 with parameters: {'x': 3.001155364256978}.\n",
      "[I 2019-01-14 01:10:27,958] Finished a trial resulted in value: 13.318399314885697. Current best value is 1.2690487704455453e-05 with parameters: {'x': 3.001155364256978}.\n",
      "[I 2019-01-14 01:10:27,977] Finished a trial resulted in value: 6.664216163485383. Current best value is 1.2690487704455453e-05 with parameters: {'x': 3.001155364256978}.\n",
      "[I 2019-01-14 01:10:28,006] Finished a trial resulted in value: 5.467693422273785. Current best value is 1.2690487704455453e-05 with parameters: {'x': 3.001155364256978}.\n",
      "[I 2019-01-14 01:10:28,032] Finished a trial resulted in value: 0.19083118084918854. Current best value is 1.2690487704455453e-05 with parameters: {'x': 3.001155364256978}.\n"
     ]
    }
   ],
   "source": [
    "def objective(trial):\n",
    "    x = trial.suggest_uniform(\"x\", -1, 4)\n",
    "    return (x - 3)**2 * (x**2 + 0.5)\n",
    "\n",
    "study = optuna.create_study()\n",
    "study.optimize(objective, n_trials=100)"
   ]
  },
  {
   "cell_type": "code",
   "execution_count": 4,
   "metadata": {},
   "outputs": [
    {
     "data": {
      "text/plain": [
       "{'x': 3.001155364256978}"
      ]
     },
     "execution_count": 4,
     "metadata": {},
     "output_type": "execute_result"
    }
   ],
   "source": [
    "study.best_params"
   ]
  },
  {
   "cell_type": "code",
   "execution_count": 5,
   "metadata": {},
   "outputs": [
    {
     "data": {
      "text/plain": [
       "1.2690487704455453e-05"
      ]
     },
     "execution_count": 5,
     "metadata": {},
     "output_type": "execute_result"
    }
   ],
   "source": [
    "study.best_value"
   ]
  },
  {
   "cell_type": "code",
   "execution_count": 6,
   "metadata": {},
   "outputs": [
    {
     "data": {
      "text/plain": [
       "[FrozenTrial(trial_id=0, state=<TrialState.COMPLETE: 1>, value=15.800125396476002, datetime_start=datetime.datetime(2019, 1, 14, 1, 10, 26, 263675), datetime_complete=datetime.datetime(2019, 1, 14, 1, 10, 26, 263675), params={'x': -0.7787878115914229}, user_attrs={}, system_attrs={}, intermediate_values={}, params_in_internal_repr={'x': -0.7787878115914229}),\n",
       " FrozenTrial(trial_id=1, state=<TrialState.COMPLETE: 1>, value=1.8761571876701697, datetime_start=datetime.datetime(2019, 1, 14, 1, 10, 26, 276021), datetime_complete=datetime.datetime(2019, 1, 14, 1, 10, 26, 276711), params={'x': 3.3949807414725504}, user_attrs={}, system_attrs={}, intermediate_values={}, params_in_internal_repr={'x': 3.3949807414725504}),\n",
       " FrozenTrial(trial_id=2, state=<TrialState.COMPLETE: 1>, value=0.5827823749264773, datetime_start=datetime.datetime(2019, 1, 14, 1, 10, 26, 287613), datetime_complete=datetime.datetime(2019, 1, 14, 1, 10, 26, 287613), params={'x': 2.7292267658859353}, user_attrs={}, system_attrs={}, intermediate_values={}, params_in_internal_repr={'x': 2.7292267658859353}),\n",
       " FrozenTrial(trial_id=3, state=<TrialState.COMPLETE: 1>, value=6.162607219399175, datetime_start=datetime.datetime(2019, 1, 14, 1, 10, 26, 300575), datetime_complete=datetime.datetime(2019, 1, 14, 1, 10, 26, 300575), params={'x': 1.5159194219012617}, user_attrs={}, system_attrs={}, intermediate_values={}, params_in_internal_repr={'x': 1.5159194219012617}),\n",
       " FrozenTrial(trial_id=4, state=<TrialState.COMPLETE: 1>, value=5.315473065913828, datetime_start=datetime.datetime(2019, 1, 14, 1, 10, 26, 307589), datetime_complete=datetime.datetime(2019, 1, 14, 1, 10, 26, 308560), params={'x': 0.7275458546610689}, user_attrs={}, system_attrs={}, intermediate_values={}, params_in_internal_repr={'x': 0.7275458546610689}),\n",
       " FrozenTrial(trial_id=5, state=<TrialState.COMPLETE: 1>, value=6.17226319151146, datetime_start=datetime.datetime(2019, 1, 14, 1, 10, 26, 313541), datetime_complete=datetime.datetime(2019, 1, 14, 1, 10, 26, 315575), params={'x': 1.5098966932864335}, user_attrs={}, system_attrs={}, intermediate_values={}, params_in_internal_repr={'x': 1.5098966932864335}),\n",
       " FrozenTrial(trial_id=6, state=<TrialState.COMPLETE: 1>, value=4.301494694880347, datetime_start=datetime.datetime(2019, 1, 14, 1, 10, 26, 319524), datetime_complete=datetime.datetime(2019, 1, 14, 1, 10, 26, 320523), params={'x': 0.30033180489667277}, user_attrs={}, system_attrs={}, intermediate_values={}, params_in_internal_repr={'x': 0.30033180489667277}),\n",
       " FrozenTrial(trial_id=7, state=<TrialState.COMPLETE: 1>, value=1.4852421441780028, datetime_start=datetime.datetime(2019, 1, 14, 1, 10, 26, 325782), datetime_complete=datetime.datetime(2019, 1, 14, 1, 10, 26, 326543), params={'x': 2.537318739177274}, user_attrs={}, system_attrs={}, intermediate_values={}, params_in_internal_repr={'x': 2.537318739177274}),\n",
       " FrozenTrial(trial_id=8, state=<TrialState.COMPLETE: 1>, value=4.3067805581916865, datetime_start=datetime.datetime(2019, 1, 14, 1, 10, 26, 330559), datetime_complete=datetime.datetime(2019, 1, 14, 1, 10, 26, 331493), params={'x': 0.08715629286510906}, user_attrs={}, system_attrs={}, intermediate_values={}, params_in_internal_repr={'x': 0.08715629286510906}),\n",
       " FrozenTrial(trial_id=9, state=<TrialState.COMPLETE: 1>, value=4.828593855659938, datetime_start=datetime.datetime(2019, 1, 14, 1, 10, 26, 347918), datetime_complete=datetime.datetime(2019, 1, 14, 1, 10, 26, 348450), params={'x': 0.5543292988395279}, user_attrs={}, system_attrs={}, intermediate_values={}, params_in_internal_repr={'x': 0.5543292988395279}),\n",
       " FrozenTrial(trial_id=10, state=<TrialState.COMPLETE: 1>, value=14.791897351280603, datetime_start=datetime.datetime(2019, 1, 14, 1, 10, 26, 356624), datetime_complete=datetime.datetime(2019, 1, 14, 1, 10, 26, 362411), params={'x': 3.9568361885783743}, user_attrs={}, system_attrs={}, intermediate_values={}, params_in_internal_repr={'x': 3.9568361885783743}),\n",
       " FrozenTrial(trial_id=11, state=<TrialState.COMPLETE: 1>, value=0.21482492887452623, datetime_start=datetime.datetime(2019, 1, 14, 1, 10, 26, 367824), datetime_complete=datetime.datetime(2019, 1, 14, 1, 10, 26, 371387), params={'x': 2.8417239238445875}, user_attrs={}, system_attrs={}, intermediate_values={}, params_in_internal_repr={'x': 2.8417239238445875}),\n",
       " FrozenTrial(trial_id=12, state=<TrialState.COMPLETE: 1>, value=1.8750353992727486, datetime_start=datetime.datetime(2019, 1, 14, 1, 10, 26, 378854), datetime_complete=datetime.datetime(2019, 1, 14, 1, 10, 26, 383354), params={'x': 2.466288290967788}, user_attrs={}, system_attrs={}, intermediate_values={}, params_in_internal_repr={'x': 2.466288290967788}),\n",
       " FrozenTrial(trial_id=13, state=<TrialState.COMPLETE: 1>, value=0.38110130925652774, datetime_start=datetime.datetime(2019, 1, 14, 1, 10, 26, 387541), datetime_complete=datetime.datetime(2019, 1, 14, 1, 10, 26, 391376), params={'x': 3.188992538033071}, user_attrs={}, system_attrs={}, intermediate_values={}, params_in_internal_repr={'x': 3.188992538033071}),\n",
       " FrozenTrial(trial_id=14, state=<TrialState.COMPLETE: 1>, value=4.335409710842047, datetime_start=datetime.datetime(2019, 1, 14, 1, 10, 26, 399644), datetime_complete=datetime.datetime(2019, 1, 14, 1, 10, 26, 405297), params={'x': 2.032406791785826}, user_attrs={}, system_attrs={}, intermediate_values={}, params_in_internal_repr={'x': 2.032406791785826}),\n",
       " FrozenTrial(trial_id=15, state=<TrialState.COMPLETE: 1>, value=5.92050843516816, datetime_start=datetime.datetime(2019, 1, 14, 1, 10, 26, 410349), datetime_complete=datetime.datetime(2019, 1, 14, 1, 10, 26, 416299), params={'x': -0.2476529328935042}, user_attrs={}, system_attrs={}, intermediate_values={}, params_in_internal_repr={'x': -0.2476529328935042}),\n",
       " FrozenTrial(trial_id=16, state=<TrialState.COMPLETE: 1>, value=3.896185888488396, datetime_start=datetime.datetime(2019, 1, 14, 1, 10, 26, 420758), datetime_complete=datetime.datetime(2019, 1, 14, 1, 10, 26, 425243), params={'x': 3.5459135245022755}, user_attrs={}, system_attrs={}, intermediate_values={}, params_in_internal_repr={'x': 3.5459135245022755}),\n",
       " FrozenTrial(trial_id=17, state=<TrialState.COMPLETE: 1>, value=0.0813040242500723, datetime_start=datetime.datetime(2019, 1, 14, 1, 10, 26, 434806), datetime_complete=datetime.datetime(2019, 1, 14, 1, 10, 26, 440203), params={'x': 3.0899539416230963}, user_attrs={}, system_attrs={}, intermediate_values={}, params_in_internal_repr={'x': 3.0899539416230963}),\n",
       " FrozenTrial(trial_id=18, state=<TrialState.COMPLETE: 1>, value=13.378728393644328, datetime_start=datetime.datetime(2019, 1, 14, 1, 10, 26, 446187), datetime_complete=datetime.datetime(2019, 1, 14, 1, 10, 26, 451173), params={'x': 3.9185862449541973}, user_attrs={}, system_attrs={}, intermediate_values={}, params_in_internal_repr={'x': 3.9185862449541973}),\n",
       " FrozenTrial(trial_id=19, state=<TrialState.COMPLETE: 1>, value=0.05597733321344319, datetime_start=datetime.datetime(2019, 1, 14, 1, 10, 26, 455514), datetime_complete=datetime.datetime(2019, 1, 14, 1, 10, 26, 460149), params={'x': 2.9212829880870634}, user_attrs={}, system_attrs={}, intermediate_values={}, params_in_internal_repr={'x': 2.9212829880870634}),\n",
       " FrozenTrial(trial_id=20, state=<TrialState.COMPLETE: 1>, value=4.262043619729914, datetime_start=datetime.datetime(2019, 1, 14, 1, 10, 26, 471120), datetime_complete=datetime.datetime(2019, 1, 14, 1, 10, 26, 477107), params={'x': 2.0465491489560037}, user_attrs={}, system_attrs={}, intermediate_values={}, params_in_internal_repr={'x': 2.0465491489560037}),\n",
       " FrozenTrial(trial_id=21, state=<TrialState.COMPLETE: 1>, value=4.125330022174269, datetime_start=datetime.datetime(2019, 1, 14, 1, 10, 26, 484392), datetime_complete=datetime.datetime(2019, 1, 14, 1, 10, 26, 488075), params={'x': 2.072466063007786}, user_attrs={}, system_attrs={}, intermediate_values={}, params_in_internal_repr={'x': 2.072466063007786}),\n",
       " FrozenTrial(trial_id=22, state=<TrialState.COMPLETE: 1>, value=5.926339213592844, datetime_start=datetime.datetime(2019, 1, 14, 1, 10, 26, 496459), datetime_complete=datetime.datetime(2019, 1, 14, 1, 10, 26, 500044), params={'x': 0.9646838220509595}, user_attrs={}, system_attrs={}, intermediate_values={}, params_in_internal_repr={'x': 0.9646838220509595}),\n",
       " FrozenTrial(trial_id=23, state=<TrialState.COMPLETE: 1>, value=0.06820185311285366, datetime_start=datetime.datetime(2019, 1, 14, 1, 10, 26, 506028), datetime_complete=datetime.datetime(2019, 1, 14, 1, 10, 26, 513007), params={'x': 3.082575045993268}, user_attrs={}, system_attrs={}, intermediate_values={}, params_in_internal_repr={'x': 3.082575045993268}),\n",
       " FrozenTrial(trial_id=24, state=<TrialState.COMPLETE: 1>, value=6.086077101888382, datetime_start=datetime.datetime(2019, 1, 14, 1, 10, 26, 517994), datetime_complete=datetime.datetime(2019, 1, 14, 1, 10, 26, 522982), params={'x': 3.6615371950401876}, user_attrs={}, system_attrs={}, intermediate_values={}, params_in_internal_repr={'x': 3.6615371950401876}),\n",
       " FrozenTrial(trial_id=25, state=<TrialState.COMPLETE: 1>, value=6.147345389185371, datetime_start=datetime.datetime(2019, 1, 14, 1, 10, 26, 530069), datetime_complete=datetime.datetime(2019, 1, 14, 1, 10, 26, 534675), params={'x': 1.0827827517554487}, user_attrs={}, system_attrs={}, intermediate_values={}, params_in_internal_repr={'x': 1.0827827517554487}),\n",
       " FrozenTrial(trial_id=26, state=<TrialState.COMPLETE: 1>, value=3.330059705815509, datetime_start=datetime.datetime(2019, 1, 14, 1, 10, 26, 544923), datetime_complete=datetime.datetime(2019, 1, 14, 1, 10, 26, 550906), params={'x': 2.215241623030243}, user_attrs={}, system_attrs={}, intermediate_values={}, params_in_internal_repr={'x': 2.215241623030243}),\n",
       " FrozenTrial(trial_id=27, state=<TrialState.COMPLETE: 1>, value=5.597266133628765, datetime_start=datetime.datetime(2019, 1, 14, 1, 10, 26, 555892), datetime_complete=datetime.datetime(2019, 1, 14, 1, 10, 26, 560230), params={'x': 1.740935721969907}, user_attrs={}, system_attrs={}, intermediate_values={}, params_in_internal_repr={'x': 1.740935721969907}),\n",
       " FrozenTrial(trial_id=28, state=<TrialState.COMPLETE: 1>, value=0.009314655731460909, datetime_start=datetime.datetime(2019, 1, 14, 1, 10, 26, 566710), datetime_complete=datetime.datetime(2019, 1, 14, 1, 10, 26, 570855), params={'x': 3.031009045566883}, user_attrs={}, system_attrs={}, intermediate_values={}, params_in_internal_repr={'x': 3.031009045566883}),\n",
       " FrozenTrial(trial_id=29, state=<TrialState.COMPLETE: 1>, value=14.40882477723885, datetime_start=datetime.datetime(2019, 1, 14, 1, 10, 26, 581169), datetime_complete=datetime.datetime(2019, 1, 14, 1, 10, 26, 586810), params={'x': 3.946712291065152}, user_attrs={}, system_attrs={}, intermediate_values={}, params_in_internal_repr={'x': 3.946712291065152}),\n",
       " FrozenTrial(trial_id=30, state=<TrialState.COMPLETE: 1>, value=1.9400538943669543, datetime_start=datetime.datetime(2019, 1, 14, 1, 10, 26, 591797), datetime_complete=datetime.datetime(2019, 1, 14, 1, 10, 26, 598778), params={'x': 3.400972168100422}, user_attrs={}, system_attrs={}, intermediate_values={}, params_in_internal_repr={'x': 3.400972168100422}),\n",
       " FrozenTrial(trial_id=31, state=<TrialState.COMPLETE: 1>, value=0.19609976152639477, datetime_start=datetime.datetime(2019, 1, 14, 1, 10, 26, 606958), datetime_complete=datetime.datetime(2019, 1, 14, 1, 10, 26, 614736), params={'x': 2.849150494153752}, user_attrs={}, system_attrs={}, intermediate_values={}, params_in_internal_repr={'x': 2.849150494153752}),\n",
       " FrozenTrial(trial_id=32, state=<TrialState.COMPLETE: 1>, value=20.225340582540394, datetime_start=datetime.datetime(2019, 1, 14, 1, 10, 26, 629696), datetime_complete=datetime.datetime(2019, 1, 14, 1, 10, 26, 636675), params={'x': -0.9079346674481537}, user_attrs={}, system_attrs={}, intermediate_values={}, params_in_internal_repr={'x': -0.9079346674481537}),\n",
       " FrozenTrial(trial_id=33, state=<TrialState.COMPLETE: 1>, value=2.3072589237488614, datetime_start=datetime.datetime(2019, 1, 14, 1, 10, 26, 645653), datetime_complete=datetime.datetime(2019, 1, 14, 1, 10, 26, 651284), params={'x': 2.390735138488823}, user_attrs={}, system_attrs={}, intermediate_values={}, params_in_internal_repr={'x': 2.390735138488823}),\n",
       " FrozenTrial(trial_id=34, state=<TrialState.COMPLETE: 1>, value=5.455958446555464, datetime_start=datetime.datetime(2019, 1, 14, 1, 10, 26, 659728), datetime_complete=datetime.datetime(2019, 1, 14, 1, 10, 26, 667594), params={'x': 1.7811181509866931}, user_attrs={}, system_attrs={}, intermediate_values={}, params_in_internal_repr={'x': 1.7811181509866931}),\n",
       " FrozenTrial(trial_id=35, state=<TrialState.COMPLETE: 1>, value=0.7509454437660412, datetime_start=datetime.datetime(2019, 1, 14, 1, 10, 26, 672581), datetime_complete=datetime.datetime(2019, 1, 14, 1, 10, 26, 677568), params={'x': 2.6882491614953006}, user_attrs={}, system_attrs={}, intermediate_values={}, params_in_internal_repr={'x': 2.6882491614953006}),\n",
       " FrozenTrial(trial_id=36, state=<TrialState.COMPLETE: 1>, value=6.298717659347912, datetime_start=datetime.datetime(2019, 1, 14, 1, 10, 26, 684404), datetime_complete=datetime.datetime(2019, 1, 14, 1, 10, 26, 689536), params={'x': 1.2179843817848628}, user_attrs={}, system_attrs={}, intermediate_values={}, params_in_internal_repr={'x': 1.2179843817848628}),\n",
       " FrozenTrial(trial_id=37, state=<TrialState.COMPLETE: 1>, value=7.405489908831759, datetime_start=datetime.datetime(2019, 1, 14, 1, 10, 26, 700835), datetime_complete=datetime.datetime(2019, 1, 14, 1, 10, 26, 706490), params={'x': 3.718874926981374}, user_attrs={}, system_attrs={}, intermediate_values={}, params_in_internal_repr={'x': 3.718874926981374}),\n",
       " FrozenTrial(trial_id=38, state=<TrialState.COMPLETE: 1>, value=1.1658410533909573, datetime_start=datetime.datetime(2019, 1, 14, 1, 10, 26, 712474), datetime_complete=datetime.datetime(2019, 1, 14, 1, 10, 26, 717501), params={'x': 3.3182492115093516}, user_attrs={}, system_attrs={}, intermediate_values={}, params_in_internal_repr={'x': 3.3182492115093516}),\n",
       " FrozenTrial(trial_id=39, state=<TrialState.COMPLETE: 1>, value=5.894719377233356, datetime_start=datetime.datetime(2019, 1, 14, 1, 10, 26, 723561), datetime_complete=datetime.datetime(2019, 1, 14, 1, 10, 26, 728456), params={'x': 1.641821335190315}, user_attrs={}, system_attrs={}, intermediate_values={}, params_in_internal_repr={'x': 1.641821335190315}),\n",
       " FrozenTrial(trial_id=40, state=<TrialState.COMPLETE: 1>, value=6.319417720963189, datetime_start=datetime.datetime(2019, 1, 14, 1, 10, 26, 734415), datetime_complete=datetime.datetime(2019, 1, 14, 1, 10, 26, 745388), params={'x': 1.2573293601558384}, user_attrs={}, system_attrs={}, intermediate_values={}, params_in_internal_repr={'x': 1.2573293601558384}),\n",
       " FrozenTrial(trial_id=41, state=<TrialState.COMPLETE: 1>, value=0.026025953509339256, datetime_start=datetime.datetime(2019, 1, 14, 1, 10, 26, 752003), datetime_complete=datetime.datetime(2019, 1, 14, 1, 10, 26, 757355), params={'x': 3.051502920508931}, user_attrs={}, system_attrs={}, intermediate_values={}, params_in_internal_repr={'x': 3.051502920508931}),\n",
       " FrozenTrial(trial_id=42, state=<TrialState.COMPLETE: 1>, value=1.1144978346037802, datetime_start=datetime.datetime(2019, 1, 14, 1, 10, 26, 764608), datetime_complete=datetime.datetime(2019, 1, 14, 1, 10, 26, 771317), params={'x': 2.6095260872807606}, user_attrs={}, system_attrs={}, intermediate_values={}, params_in_internal_repr={'x': 2.6095260872807606}),\n",
       " FrozenTrial(trial_id=43, state=<TrialState.COMPLETE: 1>, value=2.798060358095911, datetime_start=datetime.datetime(2019, 1, 14, 1, 10, 26, 777301), datetime_complete=datetime.datetime(2019, 1, 14, 1, 10, 26, 788771), params={'x': 2.30667010851765}, user_attrs={}, system_attrs={}, intermediate_values={}, params_in_internal_repr={'x': 2.30667010851765}),\n",
       " FrozenTrial(trial_id=44, state=<TrialState.COMPLETE: 1>, value=5.305609666167007, datetime_start=datetime.datetime(2019, 1, 14, 1, 10, 26, 799242), datetime_complete=datetime.datetime(2019, 1, 14, 1, 10, 26, 806224), params={'x': 0.7240696526301479}, user_attrs={}, system_attrs={}, intermediate_values={}, params_in_internal_repr={'x': 0.7240696526301479}),\n",
       " FrozenTrial(trial_id=45, state=<TrialState.COMPLETE: 1>, value=6.489534851979484, datetime_start=datetime.datetime(2019, 1, 14, 1, 10, 26, 812967), datetime_complete=datetime.datetime(2019, 1, 14, 1, 10, 26, 819190), params={'x': -0.30612334759464455}, user_attrs={}, system_attrs={}, intermediate_values={}, params_in_internal_repr={'x': -0.30612334759464455}),\n",
       " FrozenTrial(trial_id=46, state=<TrialState.COMPLETE: 1>, value=2.8755046622798615, datetime_start=datetime.datetime(2019, 1, 14, 1, 10, 26, 830159), datetime_complete=datetime.datetime(2019, 1, 14, 1, 10, 26, 838138), params={'x': 3.477809919846992}, user_attrs={}, system_attrs={}, intermediate_values={}, params_in_internal_repr={'x': 3.477809919846992}),\n",
       " FrozenTrial(trial_id=47, state=<TrialState.COMPLETE: 1>, value=8.83659013725256, datetime_start=datetime.datetime(2019, 1, 14, 1, 10, 26, 846117), datetime_complete=datetime.datetime(2019, 1, 14, 1, 10, 26, 852100), params={'x': 3.7741596852380117}, user_attrs={}, system_attrs={}, intermediate_values={}, params_in_internal_repr={'x': 3.7741596852380117}),\n",
       " FrozenTrial(trial_id=48, state=<TrialState.COMPLETE: 1>, value=4.295434865730363, datetime_start=datetime.datetime(2019, 1, 14, 1, 10, 26, 864018), datetime_complete=datetime.datetime(2019, 1, 14, 1, 10, 26, 871608), params={'x': 0.29513859895258676}, user_attrs={}, system_attrs={}, intermediate_values={}, params_in_internal_repr={'x': 0.29513859895258676}),\n",
       " FrozenTrial(trial_id=49, state=<TrialState.COMPLETE: 1>, value=0.35953063622865694, datetime_start=datetime.datetime(2019, 1, 14, 1, 10, 26, 879057), datetime_complete=datetime.datetime(2019, 1, 14, 1, 10, 26, 884015), params={'x': 3.183848700946045}, user_attrs={}, system_attrs={}, intermediate_values={}, params_in_internal_repr={'x': 3.183848700946045}),\n",
       " FrozenTrial(trial_id=50, state=<TrialState.COMPLETE: 1>, value=6.280782867789595, datetime_start=datetime.datetime(2019, 1, 14, 1, 10, 26, 890996), datetime_complete=datetime.datetime(2019, 1, 14, 1, 10, 26, 897979), params={'x': 1.4213352256512954}, user_attrs={}, system_attrs={}, intermediate_values={}, params_in_internal_repr={'x': 1.4213352256512954}),\n",
       " FrozenTrial(trial_id=51, state=<TrialState.COMPLETE: 1>, value=0.15429421649470468, datetime_start=datetime.datetime(2019, 1, 14, 1, 10, 26, 911981), datetime_complete=datetime.datetime(2019, 1, 14, 1, 10, 26, 918296), params={'x': 2.866976720619336}, user_attrs={}, system_attrs={}, intermediate_values={}, params_in_internal_repr={'x': 2.866976720619336}),\n",
       " FrozenTrial(trial_id=52, state=<TrialState.COMPLETE: 1>, value=4.871051787242404, datetime_start=datetime.datetime(2019, 1, 14, 1, 10, 26, 924907), datetime_complete=datetime.datetime(2019, 1, 14, 1, 10, 26, 930889), params={'x': 1.9226174345907014}, user_attrs={}, system_attrs={}, intermediate_values={}, params_in_internal_repr={'x': 1.9226174345907014}),\n",
       " FrozenTrial(trial_id=53, state=<TrialState.COMPLETE: 1>, value=1.7507907601562327, datetime_start=datetime.datetime(2019, 1, 14, 1, 10, 26, 943141), datetime_complete=datetime.datetime(2019, 1, 14, 1, 10, 26, 949840), params={'x': 2.4885392605072014}, user_attrs={}, system_attrs={}, intermediate_values={}, params_in_internal_repr={'x': 2.4885392605072014}),\n",
       " FrozenTrial(trial_id=54, state=<TrialState.COMPLETE: 1>, value=16.36985918598457, datetime_start=datetime.datetime(2019, 1, 14, 1, 10, 26, 965798), datetime_complete=datetime.datetime(2019, 1, 14, 1, 10, 26, 975771), params={'x': 3.9968175664415315}, user_attrs={}, system_attrs={}, intermediate_values={}, params_in_internal_repr={'x': 3.9968175664415315}),\n",
       " FrozenTrial(trial_id=55, state=<TrialState.COMPLETE: 1>, value=0.006976850804293527, datetime_start=datetime.datetime(2019, 1, 14, 1, 10, 26, 989883), datetime_complete=datetime.datetime(2019, 1, 14, 1, 10, 26, 997093), params={'x': 2.9726641699826426}, user_attrs={}, system_attrs={}, intermediate_values={}, params_in_internal_repr={'x': 2.9726641699826426}),\n",
       " FrozenTrial(trial_id=56, state=<TrialState.COMPLETE: 1>, value=0.8756385313076831, datetime_start=datetime.datetime(2019, 1, 14, 1, 10, 27, 8688), datetime_complete=datetime.datetime(2019, 1, 14, 1, 10, 27, 15663), params={'x': 3.2789681780999813}, user_attrs={}, system_attrs={}, intermediate_values={}, params_in_internal_repr={'x': 3.2789681780999813}),\n",
       " FrozenTrial(trial_id=57, state=<TrialState.COMPLETE: 1>, value=3.6218659291895072, datetime_start=datetime.datetime(2019, 1, 14, 1, 10, 27, 22526), datetime_complete=datetime.datetime(2019, 1, 14, 1, 10, 27, 30451), params={'x': 2.164077884586214}, user_attrs={}, system_attrs={}, intermediate_values={}, params_in_internal_repr={'x': 2.164077884586214}),\n",
       " FrozenTrial(trial_id=58, state=<TrialState.COMPLETE: 1>, value=5.028883837641119, datetime_start=datetime.datetime(2019, 1, 14, 1, 10, 27, 37295), datetime_complete=datetime.datetime(2019, 1, 14, 1, 10, 27, 44586), params={'x': 1.887336963916537}, user_attrs={}, system_attrs={}, intermediate_values={}, params_in_internal_repr={'x': 1.887336963916537}),\n",
       " FrozenTrial(trial_id=59, state=<TrialState.COMPLETE: 1>, value=4.258298015726286, datetime_start=datetime.datetime(2019, 1, 14, 1, 10, 27, 52120), datetime_complete=datetime.datetime(2019, 1, 14, 1, 10, 27, 61544), params={'x': 3.5674099802499244}, user_attrs={}, system_attrs={}, intermediate_values={}, params_in_internal_repr={'x': 3.5674099802499244}),\n",
       " FrozenTrial(trial_id=60, state=<TrialState.COMPLETE: 1>, value=6.164798325908124, datetime_start=datetime.datetime(2019, 1, 14, 1, 10, 27, 78496), datetime_complete=datetime.datetime(2019, 1, 14, 1, 10, 27, 86476), params={'x': 1.5145685027028166}, user_attrs={}, system_attrs={}, intermediate_values={}, params_in_internal_repr={'x': 1.5145685027028166}),\n",
       " FrozenTrial(trial_id=61, state=<TrialState.COMPLETE: 1>, value=0.5720420492928351, datetime_start=datetime.datetime(2019, 1, 14, 1, 10, 27, 99479), datetime_complete=datetime.datetime(2019, 1, 14, 1, 10, 27, 110451), params={'x': 2.73198752541675}, user_attrs={}, system_attrs={}, intermediate_values={}, params_in_internal_repr={'x': 2.73198752541675}),\n",
       " FrozenTrial(trial_id=62, state=<TrialState.COMPLETE: 1>, value=10.16278597735191, datetime_start=datetime.datetime(2019, 1, 14, 1, 10, 27, 123375), datetime_complete=datetime.datetime(2019, 1, 14, 1, 10, 27, 130357), params={'x': 3.8204901328198972}, user_attrs={}, system_attrs={}, intermediate_values={}, params_in_internal_repr={'x': 3.8204901328198972}),\n",
       " FrozenTrial(trial_id=63, state=<TrialState.COMPLETE: 1>, value=0.001268476321749067, datetime_start=datetime.datetime(2019, 1, 14, 1, 10, 27, 145318), datetime_complete=datetime.datetime(2019, 1, 14, 1, 10, 27, 154741), params={'x': 2.988402277490409}, user_attrs={}, system_attrs={}, intermediate_values={}, params_in_internal_repr={'x': 2.988402277490409}),\n",
       " FrozenTrial(trial_id=64, state=<TrialState.COMPLETE: 1>, value=4.912509609283747, datetime_start=datetime.datetime(2019, 1, 14, 1, 10, 27, 170260), datetime_complete=datetime.datetime(2019, 1, 14, 1, 10, 27, 176236), params={'x': -0.10223306266142673}, user_attrs={}, system_attrs={}, intermediate_values={}, params_in_internal_repr={'x': -0.10223306266142673}),\n",
       " FrozenTrial(trial_id=65, state=<TrialState.COMPLETE: 1>, value=0.0024992466850768395, datetime_start=datetime.datetime(2019, 1, 14, 1, 10, 27, 185610), datetime_complete=datetime.datetime(2019, 1, 14, 1, 10, 27, 194190), params={'x': 3.016137449238444}, user_attrs={}, system_attrs={}, intermediate_values={}, params_in_internal_repr={'x': 3.016137449238444}),\n",
       " FrozenTrial(trial_id=66, state=<TrialState.COMPLETE: 1>, value=2.614851794935175, datetime_start=datetime.datetime(2019, 1, 14, 1, 10, 27, 206155), datetime_complete=datetime.datetime(2019, 1, 14, 1, 10, 27, 215389), params={'x': 2.337969033029798}, user_attrs={}, system_attrs={}, intermediate_values={}, params_in_internal_repr={'x': 2.337969033029798}),\n",
       " FrozenTrial(trial_id=67, state=<TrialState.COMPLETE: 1>, value=0.022332585440317246, datetime_start=datetime.datetime(2019, 1, 14, 1, 10, 27, 225334), datetime_complete=datetime.datetime(2019, 1, 14, 1, 10, 27, 233082), params={'x': 2.9507493142799572}, user_attrs={}, system_attrs={}, intermediate_values={}, params_in_internal_repr={'x': 2.9507493142799572}),\n",
       " FrozenTrial(trial_id=68, state=<TrialState.COMPLETE: 1>, value=0.5989646914871924, datetime_start=datetime.datetime(2019, 1, 14, 1, 10, 27, 246048), datetime_complete=datetime.datetime(2019, 1, 14, 1, 10, 27, 253279), params={'x': 2.725104068872536}, user_attrs={}, system_attrs={}, intermediate_values={}, params_in_internal_repr={'x': 2.725104068872536}),\n",
       " FrozenTrial(trial_id=69, state=<TrialState.COMPLETE: 1>, value=0.44039517056839894, datetime_start=datetime.datetime(2019, 1, 14, 1, 10, 27, 265040), datetime_complete=datetime.datetime(2019, 1, 14, 1, 10, 27, 275368), params={'x': 3.202355246535849}, user_attrs={}, system_attrs={}, intermediate_values={}, params_in_internal_repr={'x': 3.202355246535849}),\n",
       " FrozenTrial(trial_id=70, state=<TrialState.COMPLETE: 1>, value=4.21280497565517, datetime_start=datetime.datetime(2019, 1, 14, 1, 10, 27, 292060), datetime_complete=datetime.datetime(2019, 1, 14, 1, 10, 27, 303894), params={'x': 3.564772649852097}, user_attrs={}, system_attrs={}, intermediate_values={}, params_in_internal_repr={'x': 3.564772649852097}),\n",
       " FrozenTrial(trial_id=71, state=<TrialState.COMPLETE: 1>, value=1.7468654148908633, datetime_start=datetime.datetime(2019, 1, 14, 1, 10, 27, 316086), datetime_complete=datetime.datetime(2019, 1, 14, 1, 10, 27, 327829), params={'x': 2.489247429322855}, user_attrs={}, system_attrs={}, intermediate_values={}, params_in_internal_repr={'x': 2.489247429322855}),\n",
       " FrozenTrial(trial_id=72, state=<TrialState.COMPLETE: 1>, value=1.9164917683195466, datetime_start=datetime.datetime(2019, 1, 14, 1, 10, 27, 346942), datetime_complete=datetime.datetime(2019, 1, 14, 1, 10, 27, 355211), params={'x': 3.398776578750041}, user_attrs={}, system_attrs={}, intermediate_values={}, params_in_internal_repr={'x': 3.398776578750041}),\n",
       " FrozenTrial(trial_id=73, state=<TrialState.COMPLETE: 1>, value=3.7949199139578065, datetime_start=datetime.datetime(2019, 1, 14, 1, 10, 27, 367891), datetime_complete=datetime.datetime(2019, 1, 14, 1, 10, 27, 375700), params={'x': 2.133157803056674}, user_attrs={}, system_attrs={}, intermediate_values={}, params_in_internal_repr={'x': 2.133157803056674}),\n",
       " FrozenTrial(trial_id=74, state=<TrialState.COMPLETE: 1>, value=1.1840720418416273, datetime_start=datetime.datetime(2019, 1, 14, 1, 10, 27, 390676), datetime_complete=datetime.datetime(2019, 1, 14, 1, 10, 27, 400328), params={'x': 2.5954971174536747}, user_attrs={}, system_attrs={}, intermediate_values={}, params_in_internal_repr={'x': 2.5954971174536747}),\n",
       " FrozenTrial(trial_id=75, state=<TrialState.COMPLETE: 1>, value=4.7582808906174865, datetime_start=datetime.datetime(2019, 1, 14, 1, 10, 27, 413600), datetime_complete=datetime.datetime(2019, 1, 14, 1, 10, 27, 420582), params={'x': 1.9468742676577446}, user_attrs={}, system_attrs={}, intermediate_values={}, params_in_internal_repr={'x': 1.9468742676577446}),\n",
       " FrozenTrial(trial_id=76, state=<TrialState.COMPLETE: 1>, value=5.772401060973272, datetime_start=datetime.datetime(2019, 1, 14, 1, 10, 27, 432818), datetime_complete=datetime.datetime(2019, 1, 14, 1, 10, 27, 441018), params={'x': 1.6856324799886433}, user_attrs={}, system_attrs={}, intermediate_values={}, params_in_internal_repr={'x': 1.6856324799886433}),\n",
       " FrozenTrial(trial_id=77, state=<TrialState.COMPLETE: 1>, value=5.869108586583506, datetime_start=datetime.datetime(2019, 1, 14, 1, 10, 27, 453527), datetime_complete=datetime.datetime(2019, 1, 14, 1, 10, 27, 465462), params={'x': 0.9389751420825787}, user_attrs={}, system_attrs={}, intermediate_values={}, params_in_internal_repr={'x': 0.9389751420825787}),\n",
       " FrozenTrial(trial_id=78, state=<TrialState.COMPLETE: 1>, value=5.673507298857919, datetime_start=datetime.datetime(2019, 1, 14, 1, 10, 27, 476549), datetime_complete=datetime.datetime(2019, 1, 14, 1, 10, 27, 487325), params={'x': 3.6420200430814926}, user_attrs={}, system_attrs={}, intermediate_values={}, params_in_internal_repr={'x': 3.6420200430814926}),\n",
       " FrozenTrial(trial_id=79, state=<TrialState.COMPLETE: 1>, value=1.2690487704455453e-05, datetime_start=datetime.datetime(2019, 1, 14, 1, 10, 27, 497383), datetime_complete=datetime.datetime(2019, 1, 14, 1, 10, 27, 508347), params={'x': 3.001155364256978}, user_attrs={}, system_attrs={}, intermediate_values={}, params_in_internal_repr={'x': 3.001155364256978}),\n",
       " FrozenTrial(trial_id=80, state=<TrialState.COMPLETE: 1>, value=10.606451428015015, datetime_start=datetime.datetime(2019, 1, 14, 1, 10, 27, 523308), datetime_complete=datetime.datetime(2019, 1, 14, 1, 10, 27, 536272), params={'x': 3.8351168881931104}, user_attrs={}, system_attrs={}, intermediate_values={}, params_in_internal_repr={'x': 3.8351168881931104}),\n",
       " FrozenTrial(trial_id=81, state=<TrialState.COMPLETE: 1>, value=0.40146614243167167, datetime_start=datetime.datetime(2019, 1, 14, 1, 10, 27, 549664), datetime_complete=datetime.datetime(2019, 1, 14, 1, 10, 27, 559324), params={'x': 3.19370364364966}, user_attrs={}, system_attrs={}, intermediate_values={}, params_in_internal_repr={'x': 3.19370364364966}),\n",
       " FrozenTrial(trial_id=82, state=<TrialState.COMPLETE: 1>, value=0.3559078306961517, datetime_start=datetime.datetime(2019, 1, 14, 1, 10, 27, 574262), datetime_complete=datetime.datetime(2019, 1, 14, 1, 10, 27, 589131), params={'x': 2.7929297127754285}, user_attrs={}, system_attrs={}, intermediate_values={}, params_in_internal_repr={'x': 2.7929297127754285}),\n",
       " FrozenTrial(trial_id=83, state=<TrialState.COMPLETE: 1>, value=2.832080268149173, datetime_start=datetime.datetime(2019, 1, 14, 1, 10, 27, 599104), datetime_complete=datetime.datetime(2019, 1, 14, 1, 10, 27, 608080), params={'x': 2.300857760791237}, user_attrs={}, system_attrs={}, intermediate_values={}, params_in_internal_repr={'x': 2.300857760791237}),\n",
       " FrozenTrial(trial_id=84, state=<TrialState.COMPLETE: 1>, value=6.32743367963882, datetime_start=datetime.datetime(2019, 1, 14, 1, 10, 27, 621046), datetime_complete=datetime.datetime(2019, 1, 14, 1, 10, 27, 629024), params={'x': 1.28611839354009}, user_attrs={}, system_attrs={}, intermediate_values={}, params_in_internal_repr={'x': 1.28611839354009}),\n",
       " FrozenTrial(trial_id=85, state=<TrialState.COMPLETE: 1>, value=0.9592444585995435, datetime_start=datetime.datetime(2019, 1, 14, 1, 10, 27, 653541), datetime_complete=datetime.datetime(2019, 1, 14, 1, 10, 27, 664928), params={'x': 2.6418810182364507}, user_attrs={}, system_attrs={}, intermediate_values={}, params_in_internal_repr={'x': 2.6418810182364507}),\n",
       " FrozenTrial(trial_id=86, state=<TrialState.COMPLETE: 1>, value=0.12855207154008508, datetime_start=datetime.datetime(2019, 1, 14, 1, 10, 27, 676901), datetime_complete=datetime.datetime(2019, 1, 14, 1, 10, 27, 688865), params={'x': 3.1123373012812907}, user_attrs={}, system_attrs={}, intermediate_values={}, params_in_internal_repr={'x': 3.1123373012812907}),\n",
       " FrozenTrial(trial_id=87, state=<TrialState.COMPLETE: 1>, value=1.354089802969431, datetime_start=datetime.datetime(2019, 1, 14, 1, 10, 27, 707814), datetime_complete=datetime.datetime(2019, 1, 14, 1, 10, 27, 716789), params={'x': 3.3407694606251073}, user_attrs={}, system_attrs={}, intermediate_values={}, params_in_internal_repr={'x': 3.3407694606251073}),\n",
       " FrozenTrial(trial_id=88, state=<TrialState.COMPLETE: 1>, value=3.2132673207109184, datetime_start=datetime.datetime(2019, 1, 14, 1, 10, 27, 729756), datetime_complete=datetime.datetime(2019, 1, 14, 1, 10, 27, 738740), params={'x': 2.235461962897788}, user_attrs={}, system_attrs={}, intermediate_values={}, params_in_internal_repr={'x': 2.235461962897788}),\n",
       " FrozenTrial(trial_id=89, state=<TrialState.COMPLETE: 1>, value=4.679322305877034, datetime_start=datetime.datetime(2019, 1, 14, 1, 10, 27, 754688), datetime_complete=datetime.datetime(2019, 1, 14, 1, 10, 27, 764661), params={'x': 0.4967202605049752}, user_attrs={}, system_attrs={}, intermediate_values={}, params_in_internal_repr={'x': 0.4967202605049752}),\n",
       " FrozenTrial(trial_id=90, state=<TrialState.COMPLETE: 1>, value=11.463274947068602, datetime_start=datetime.datetime(2019, 1, 14, 1, 10, 27, 777626), datetime_complete=datetime.datetime(2019, 1, 14, 1, 10, 27, 788228), params={'x': -0.6143945934988158}, user_attrs={}, system_attrs={}, intermediate_values={}, params_in_internal_repr={'x': -0.6143945934988158}),\n",
       " FrozenTrial(trial_id=91, state=<TrialState.COMPLETE: 1>, value=2.5177447881746287, datetime_start=datetime.datetime(2019, 1, 14, 1, 10, 27, 801563), datetime_complete=datetime.datetime(2019, 1, 14, 1, 10, 27, 812534), params={'x': 3.450496349528537}, user_attrs={}, system_attrs={}, intermediate_values={}, params_in_internal_repr={'x': 3.450496349528537}),\n",
       " FrozenTrial(trial_id=92, state=<TrialState.COMPLETE: 1>, value=2.0875195270718105, datetime_start=datetime.datetime(2019, 1, 14, 1, 10, 27, 834476), datetime_complete=datetime.datetime(2019, 1, 14, 1, 10, 27, 847440), params={'x': 2.428852621361425}, user_attrs={}, system_attrs={}, intermediate_values={}, params_in_internal_repr={'x': 2.428852621361425}),\n",
       " FrozenTrial(trial_id=93, state=<TrialState.COMPLETE: 1>, value=4.385249830898556, datetime_start=datetime.datetime(2019, 1, 14, 1, 10, 27, 871390), datetime_complete=datetime.datetime(2019, 1, 14, 1, 10, 27, 879355), params={'x': 2.022697182933617}, user_attrs={}, system_attrs={}, intermediate_values={}, params_in_internal_repr={'x': 2.022697182933617}),\n",
       " FrozenTrial(trial_id=94, state=<TrialState.COMPLETE: 1>, value=6.000434666734604, datetime_start=datetime.datetime(2019, 1, 14, 1, 10, 27, 891325), datetime_complete=datetime.datetime(2019, 1, 14, 1, 10, 27, 901296), params={'x': 1.5987627619003484}, user_attrs={}, system_attrs={}, intermediate_values={}, params_in_internal_repr={'x': 1.5987627619003484}),\n",
       " FrozenTrial(trial_id=95, state=<TrialState.COMPLETE: 1>, value=0.0002391403665958168, datetime_start=datetime.datetime(2019, 1, 14, 1, 10, 27, 913264), datetime_complete=datetime.datetime(2019, 1, 14, 1, 10, 27, 928224), params={'x': 3.005009312783663}, user_attrs={}, system_attrs={}, intermediate_values={}, params_in_internal_repr={'x': 3.005009312783663}),\n",
       " FrozenTrial(trial_id=96, state=<TrialState.COMPLETE: 1>, value=13.318399314885697, datetime_start=datetime.datetime(2019, 1, 14, 1, 10, 27, 938198), datetime_complete=datetime.datetime(2019, 1, 14, 1, 10, 27, 947311), params={'x': 3.9168958541552117}, user_attrs={}, system_attrs={}, intermediate_values={}, params_in_internal_repr={'x': 3.9168958541552117}),\n",
       " FrozenTrial(trial_id=97, state=<TrialState.COMPLETE: 1>, value=6.664216163485383, datetime_start=datetime.datetime(2019, 1, 14, 1, 10, 27, 962133), datetime_complete=datetime.datetime(2019, 1, 14, 1, 10, 27, 969115), params={'x': 3.6875380754824825}, user_attrs={}, system_attrs={}, intermediate_values={}, params_in_internal_repr={'x': 3.6875380754824825}),\n",
       " FrozenTrial(trial_id=98, state=<TrialState.COMPLETE: 1>, value=5.467693422273785, datetime_start=datetime.datetime(2019, 1, 14, 1, 10, 27, 984075), datetime_complete=datetime.datetime(2019, 1, 14, 1, 10, 27, 999043), params={'x': 1.7779019698456042}, user_attrs={}, system_attrs={}, intermediate_values={}, params_in_internal_repr={'x': 1.7779019698456042}),\n",
       " FrozenTrial(trial_id=99, state=<TrialState.COMPLETE: 1>, value=0.19083118084918854, datetime_start=datetime.datetime(2019, 1, 14, 1, 10, 28, 9008), datetime_complete=datetime.datetime(2019, 1, 14, 1, 10, 28, 20976), params={'x': 2.851296210221717}, user_attrs={}, system_attrs={}, intermediate_values={}, params_in_internal_repr={'x': 2.851296210221717})]"
      ]
     },
     "execution_count": 6,
     "metadata": {},
     "output_type": "execute_result"
    }
   ],
   "source": [
    "study.trials"
   ]
  },
  {
   "cell_type": "code",
   "execution_count": 7,
   "metadata": {},
   "outputs": [
    {
     "data": {
      "text/html": [
       "<div>\n",
       "<style scoped>\n",
       "    .dataframe tbody tr th:only-of-type {\n",
       "        vertical-align: middle;\n",
       "    }\n",
       "\n",
       "    .dataframe tbody tr th {\n",
       "        vertical-align: top;\n",
       "    }\n",
       "\n",
       "    .dataframe thead tr th {\n",
       "        text-align: left;\n",
       "    }\n",
       "</style>\n",
       "<table border=\"1\" class=\"dataframe\">\n",
       "  <thead>\n",
       "    <tr>\n",
       "      <th></th>\n",
       "      <th>trial_id</th>\n",
       "      <th>state</th>\n",
       "      <th>value</th>\n",
       "      <th>datetime_start</th>\n",
       "      <th>datetime_complete</th>\n",
       "      <th>params</th>\n",
       "    </tr>\n",
       "    <tr>\n",
       "      <th></th>\n",
       "      <th></th>\n",
       "      <th></th>\n",
       "      <th></th>\n",
       "      <th></th>\n",
       "      <th></th>\n",
       "      <th>x</th>\n",
       "    </tr>\n",
       "  </thead>\n",
       "  <tbody>\n",
       "    <tr>\n",
       "      <th>0</th>\n",
       "      <td>0</td>\n",
       "      <td>TrialState.COMPLETE</td>\n",
       "      <td>15.800125</td>\n",
       "      <td>2019-01-14 01:10:26.263675</td>\n",
       "      <td>2019-01-14 01:10:26.263675</td>\n",
       "      <td>-0.778788</td>\n",
       "    </tr>\n",
       "    <tr>\n",
       "      <th>1</th>\n",
       "      <td>1</td>\n",
       "      <td>TrialState.COMPLETE</td>\n",
       "      <td>1.876157</td>\n",
       "      <td>2019-01-14 01:10:26.276021</td>\n",
       "      <td>2019-01-14 01:10:26.276711</td>\n",
       "      <td>3.394981</td>\n",
       "    </tr>\n",
       "    <tr>\n",
       "      <th>2</th>\n",
       "      <td>2</td>\n",
       "      <td>TrialState.COMPLETE</td>\n",
       "      <td>0.582782</td>\n",
       "      <td>2019-01-14 01:10:26.287613</td>\n",
       "      <td>2019-01-14 01:10:26.287613</td>\n",
       "      <td>2.729227</td>\n",
       "    </tr>\n",
       "    <tr>\n",
       "      <th>3</th>\n",
       "      <td>3</td>\n",
       "      <td>TrialState.COMPLETE</td>\n",
       "      <td>6.162607</td>\n",
       "      <td>2019-01-14 01:10:26.300575</td>\n",
       "      <td>2019-01-14 01:10:26.300575</td>\n",
       "      <td>1.515919</td>\n",
       "    </tr>\n",
       "    <tr>\n",
       "      <th>4</th>\n",
       "      <td>4</td>\n",
       "      <td>TrialState.COMPLETE</td>\n",
       "      <td>5.315473</td>\n",
       "      <td>2019-01-14 01:10:26.307589</td>\n",
       "      <td>2019-01-14 01:10:26.308560</td>\n",
       "      <td>0.727546</td>\n",
       "    </tr>\n",
       "  </tbody>\n",
       "</table>\n",
       "</div>"
      ],
      "text/plain": [
       "  trial_id                state      value             datetime_start  \\\n",
       "                                                                        \n",
       "0        0  TrialState.COMPLETE  15.800125 2019-01-14 01:10:26.263675   \n",
       "1        1  TrialState.COMPLETE   1.876157 2019-01-14 01:10:26.276021   \n",
       "2        2  TrialState.COMPLETE   0.582782 2019-01-14 01:10:26.287613   \n",
       "3        3  TrialState.COMPLETE   6.162607 2019-01-14 01:10:26.300575   \n",
       "4        4  TrialState.COMPLETE   5.315473 2019-01-14 01:10:26.307589   \n",
       "\n",
       "           datetime_complete    params  \n",
       "                                     x  \n",
       "0 2019-01-14 01:10:26.263675 -0.778788  \n",
       "1 2019-01-14 01:10:26.276711  3.394981  \n",
       "2 2019-01-14 01:10:26.287613  2.729227  \n",
       "3 2019-01-14 01:10:26.300575  1.515919  \n",
       "4 2019-01-14 01:10:26.308560  0.727546  "
      ]
     },
     "execution_count": 7,
     "metadata": {},
     "output_type": "execute_result"
    }
   ],
   "source": [
    "# history to pandas dataframe\n",
    "study.trials_dataframe().head()"
   ]
  },
  {
   "cell_type": "markdown",
   "metadata": {},
   "source": [
    "## example 2: Random Forest parameter tuning"
   ]
  },
  {
   "cell_type": "code",
   "execution_count": 8,
   "metadata": {},
   "outputs": [],
   "source": [
    "from sklearn.datasets import load_iris\n",
    "from sklearn.ensemble import RandomForestClassifier\n",
    "from sklearn.model_selection import StratifiedKFold, cross_val_score"
   ]
  },
  {
   "cell_type": "code",
   "execution_count": 9,
   "metadata": {},
   "outputs": [],
   "source": [
    "iris_data = load_iris()\n",
    "\n",
    "X = iris_data.data\n",
    "y = iris_data.target"
   ]
  },
  {
   "cell_type": "code",
   "execution_count": 10,
   "metadata": {},
   "outputs": [
    {
     "name": "stdout",
     "output_type": "stream",
     "text": [
      "mean accuracy: 0.947\n"
     ]
    }
   ],
   "source": [
    "# base line\n",
    "cv = StratifiedKFold(n_splits=4, shuffle=True)\n",
    "rf = RandomForestClassifier(n_estimators=20, max_depth=5)\n",
    "\n",
    "cv_score = cross_val_score(rf, X, y, cv=cv)\n",
    "\n",
    "print(\"mean accuracy: {:.3f}\".format(cv_score.mean()))"
   ]
  },
  {
   "cell_type": "code",
   "execution_count": 11,
   "metadata": {},
   "outputs": [],
   "source": [
    "def objective(trial):\n",
    "    n_estimators = trial.suggest_int(\"n_estimators\", 5, 100)\n",
    "    max_depth = trial.suggest_int(\"max_depth\", 3, 10)\n",
    "    criterion = trial.suggest_categorical(\"criterion\", [\"gini\", \"entropy\"])\n",
    "    \n",
    "    rf = RandomForestClassifier(n_estimators=n_estimators,\n",
    "                                max_depth=max_depth,\n",
    "                                criterion=criterion)\n",
    "    cv = StratifiedKFold(n_splits=4, shuffle=True)\n",
    "    \n",
    "    cv_scores = cross_val_score(rf, X, y, cv=cv)\n",
    "    \n",
    "    return 1 - cv_scores.mean()"
   ]
  },
  {
   "cell_type": "code",
   "execution_count": 12,
   "metadata": {},
   "outputs": [
    {
     "name": "stderr",
     "output_type": "stream",
     "text": [
      "[I 2019-01-14 01:10:28,681] Finished a trial resulted in value: 0.045405982905982856. Current best value is 0.045405982905982856 with parameters: {'n_estimators': 60, 'max_depth': 4, 'criterion': 'entropy'}.\n",
      "[I 2019-01-14 01:10:28,929] Finished a trial resulted in value: 0.045405982905982856. Current best value is 0.045405982905982856 with parameters: {'n_estimators': 60, 'max_depth': 4, 'criterion': 'entropy'}.\n",
      "[I 2019-01-14 01:10:29,157] Finished a trial resulted in value: 0.045940170940171. Current best value is 0.045405982905982856 with parameters: {'n_estimators': 60, 'max_depth': 4, 'criterion': 'entropy'}.\n",
      "[I 2019-01-14 01:10:29,423] Finished a trial resulted in value: 0.04647435897435903. Current best value is 0.045405982905982856 with parameters: {'n_estimators': 60, 'max_depth': 4, 'criterion': 'entropy'}.\n",
      "[I 2019-01-14 01:10:29,495] Finished a trial resulted in value: 0.05288461538461542. Current best value is 0.045405982905982856 with parameters: {'n_estimators': 60, 'max_depth': 4, 'criterion': 'entropy'}.\n",
      "[I 2019-01-14 01:10:29,704] Finished a trial resulted in value: 0.05822649572649574. Current best value is 0.045405982905982856 with parameters: {'n_estimators': 60, 'max_depth': 4, 'criterion': 'entropy'}.\n",
      "[I 2019-01-14 01:10:30,038] Finished a trial resulted in value: 0.040064102564102644. Current best value is 0.040064102564102644 with parameters: {'n_estimators': 97, 'max_depth': 9, 'criterion': 'entropy'}.\n",
      "[I 2019-01-14 01:10:30,313] Finished a trial resulted in value: 0.05341880341880345. Current best value is 0.040064102564102644 with parameters: {'n_estimators': 97, 'max_depth': 9, 'criterion': 'entropy'}.\n",
      "[I 2019-01-14 01:10:30,537] Finished a trial resulted in value: 0.05395299145299148. Current best value is 0.040064102564102644 with parameters: {'n_estimators': 97, 'max_depth': 9, 'criterion': 'entropy'}.\n",
      "[I 2019-01-14 01:10:30,832] Finished a trial resulted in value: 0.03258547008547008. Current best value is 0.03258547008547008 with parameters: {'n_estimators': 82, 'max_depth': 7, 'criterion': 'entropy'}.\n",
      "[I 2019-01-14 01:10:30,968] Finished a trial resulted in value: 0.05181623931623924. Current best value is 0.03258547008547008 with parameters: {'n_estimators': 82, 'max_depth': 7, 'criterion': 'entropy'}.\n",
      "[I 2019-01-14 01:10:31,105] Finished a trial resulted in value: 0.05288461538461542. Current best value is 0.03258547008547008 with parameters: {'n_estimators': 82, 'max_depth': 7, 'criterion': 'entropy'}.\n",
      "[I 2019-01-14 01:10:31,253] Finished a trial resulted in value: 0.04594017094017089. Current best value is 0.03258547008547008 with parameters: {'n_estimators': 82, 'max_depth': 7, 'criterion': 'entropy'}.\n",
      "[I 2019-01-14 01:10:31,564] Finished a trial resulted in value: 0.04647435897435903. Current best value is 0.03258547008547008 with parameters: {'n_estimators': 82, 'max_depth': 7, 'criterion': 'entropy'}.\n",
      "[I 2019-01-14 01:10:31,892] Finished a trial resulted in value: 0.040598290598290676. Current best value is 0.03258547008547008 with parameters: {'n_estimators': 82, 'max_depth': 7, 'criterion': 'entropy'}.\n",
      "[I 2019-01-14 01:10:32,075] Finished a trial resulted in value: 0.045940170940171. Current best value is 0.03258547008547008 with parameters: {'n_estimators': 82, 'max_depth': 7, 'criterion': 'entropy'}.\n",
      "[I 2019-01-14 01:10:32,138] Finished a trial resulted in value: 0.040064102564102644. Current best value is 0.03258547008547008 with parameters: {'n_estimators': 82, 'max_depth': 7, 'criterion': 'entropy'}.\n",
      "[I 2019-01-14 01:10:32,201] Finished a trial resulted in value: 0.0657051282051282. Current best value is 0.03258547008547008 with parameters: {'n_estimators': 82, 'max_depth': 7, 'criterion': 'entropy'}.\n",
      "[I 2019-01-14 01:10:32,565] Finished a trial resulted in value: 0.040064102564102644. Current best value is 0.03258547008547008 with parameters: {'n_estimators': 82, 'max_depth': 7, 'criterion': 'entropy'}.\n",
      "[I 2019-01-14 01:10:32,660] Finished a trial resulted in value: 0.047008547008547064. Current best value is 0.03258547008547008 with parameters: {'n_estimators': 82, 'max_depth': 7, 'criterion': 'entropy'}.\n",
      "[I 2019-01-14 01:10:32,781] Finished a trial resulted in value: 0.05288461538461542. Current best value is 0.03258547008547008 with parameters: {'n_estimators': 82, 'max_depth': 7, 'criterion': 'entropy'}.\n",
      "[I 2019-01-14 01:10:33,116] Finished a trial resulted in value: 0.040064102564102644. Current best value is 0.03258547008547008 with parameters: {'n_estimators': 82, 'max_depth': 7, 'criterion': 'entropy'}.\n",
      "[I 2019-01-14 01:10:33,548] Finished a trial resulted in value: 0.040064102564102644. Current best value is 0.03258547008547008 with parameters: {'n_estimators': 82, 'max_depth': 7, 'criterion': 'entropy'}.\n",
      "[I 2019-01-14 01:10:33,954] Finished a trial resulted in value: 0.04113247863247871. Current best value is 0.03258547008547008 with parameters: {'n_estimators': 82, 'max_depth': 7, 'criterion': 'entropy'}.\n",
      "[I 2019-01-14 01:10:34,337] Finished a trial resulted in value: 0.060897435897436014. Current best value is 0.03258547008547008 with parameters: {'n_estimators': 82, 'max_depth': 7, 'criterion': 'entropy'}.\n",
      "[I 2019-01-14 01:10:34,645] Finished a trial resulted in value: 0.05288461538461542. Current best value is 0.03258547008547008 with parameters: {'n_estimators': 82, 'max_depth': 7, 'criterion': 'entropy'}.\n",
      "[I 2019-01-14 01:10:34,889] Finished a trial resulted in value: 0.040598290598290676. Current best value is 0.03258547008547008 with parameters: {'n_estimators': 82, 'max_depth': 7, 'criterion': 'entropy'}.\n",
      "[I 2019-01-14 01:10:35,195] Finished a trial resulted in value: 0.058760683760683774. Current best value is 0.03258547008547008 with parameters: {'n_estimators': 82, 'max_depth': 7, 'criterion': 'entropy'}.\n",
      "[I 2019-01-14 01:10:35,545] Finished a trial resulted in value: 0.04594017094017089. Current best value is 0.03258547008547008 with parameters: {'n_estimators': 82, 'max_depth': 7, 'criterion': 'entropy'}.\n",
      "[I 2019-01-14 01:10:35,768] Finished a trial resulted in value: 0.047008547008547064. Current best value is 0.03258547008547008 with parameters: {'n_estimators': 82, 'max_depth': 7, 'criterion': 'entropy'}.\n",
      "[I 2019-01-14 01:10:36,036] Finished a trial resulted in value: 0.04647435897435903. Current best value is 0.03258547008547008 with parameters: {'n_estimators': 82, 'max_depth': 7, 'criterion': 'entropy'}.\n",
      "[I 2019-01-14 01:10:36,312] Finished a trial resulted in value: 0.054487179487179516. Current best value is 0.03258547008547008 with parameters: {'n_estimators': 82, 'max_depth': 7, 'criterion': 'entropy'}.\n",
      "[I 2019-01-14 01:10:36,581] Finished a trial resulted in value: 0.04647435897435903. Current best value is 0.03258547008547008 with parameters: {'n_estimators': 82, 'max_depth': 7, 'criterion': 'entropy'}.\n",
      "[I 2019-01-14 01:10:36,654] Finished a trial resulted in value: 0.02564102564102566. Current best value is 0.02564102564102566 with parameters: {'n_estimators': 5, 'max_depth': 9, 'criterion': 'entropy'}.\n",
      "[I 2019-01-14 01:10:36,783] Finished a trial resulted in value: 0.047008547008547064. Current best value is 0.02564102564102566 with parameters: {'n_estimators': 5, 'max_depth': 9, 'criterion': 'entropy'}.\n",
      "[I 2019-01-14 01:10:36,876] Finished a trial resulted in value: 0.053952991452991594. Current best value is 0.02564102564102566 with parameters: {'n_estimators': 5, 'max_depth': 9, 'criterion': 'entropy'}.\n",
      "[I 2019-01-14 01:10:37,120] Finished a trial resulted in value: 0.045405982905982856. Current best value is 0.02564102564102566 with parameters: {'n_estimators': 5, 'max_depth': 9, 'criterion': 'entropy'}.\n",
      "[I 2019-01-14 01:10:37,243] Finished a trial resulted in value: 0.040064102564102644. Current best value is 0.02564102564102566 with parameters: {'n_estimators': 5, 'max_depth': 9, 'criterion': 'entropy'}.\n",
      "[I 2019-01-14 01:10:37,427] Finished a trial resulted in value: 0.05288461538461542. Current best value is 0.02564102564102566 with parameters: {'n_estimators': 5, 'max_depth': 9, 'criterion': 'entropy'}.\n"
     ]
    },
    {
     "name": "stderr",
     "output_type": "stream",
     "text": [
      "[I 2019-01-14 01:10:37,488] Finished a trial resulted in value: 0.05181623931623924. Current best value is 0.02564102564102566 with parameters: {'n_estimators': 5, 'max_depth': 9, 'criterion': 'entropy'}.\n",
      "[I 2019-01-14 01:10:37,593] Finished a trial resulted in value: 0.06677350427350426. Current best value is 0.02564102564102566 with parameters: {'n_estimators': 5, 'max_depth': 9, 'criterion': 'entropy'}.\n",
      "[I 2019-01-14 01:10:37,920] Finished a trial resulted in value: 0.0673076923076924. Current best value is 0.02564102564102566 with parameters: {'n_estimators': 5, 'max_depth': 9, 'criterion': 'entropy'}.\n",
      "[I 2019-01-14 01:10:38,228] Finished a trial resulted in value: 0.05395299145299148. Current best value is 0.02564102564102566 with parameters: {'n_estimators': 5, 'max_depth': 9, 'criterion': 'entropy'}.\n",
      "[I 2019-01-14 01:10:38,365] Finished a trial resulted in value: 0.047008547008547064. Current best value is 0.02564102564102566 with parameters: {'n_estimators': 5, 'max_depth': 9, 'criterion': 'entropy'}.\n",
      "[I 2019-01-14 01:10:38,536] Finished a trial resulted in value: 0.0411324786324786. Current best value is 0.02564102564102566 with parameters: {'n_estimators': 5, 'max_depth': 9, 'criterion': 'entropy'}.\n",
      "[I 2019-01-14 01:10:38,749] Finished a trial resulted in value: 0.047008547008547064. Current best value is 0.02564102564102566 with parameters: {'n_estimators': 5, 'max_depth': 9, 'criterion': 'entropy'}.\n",
      "[I 2019-01-14 01:10:38,980] Finished a trial resulted in value: 0.047542735042735096. Current best value is 0.02564102564102566 with parameters: {'n_estimators': 5, 'max_depth': 9, 'criterion': 'entropy'}.\n",
      "[I 2019-01-14 01:10:39,233] Finished a trial resulted in value: 0.054487179487179516. Current best value is 0.02564102564102566 with parameters: {'n_estimators': 5, 'max_depth': 9, 'criterion': 'entropy'}.\n",
      "[I 2019-01-14 01:10:39,318] Finished a trial resulted in value: 0.040598290598290676. Current best value is 0.02564102564102566 with parameters: {'n_estimators': 5, 'max_depth': 9, 'criterion': 'entropy'}.\n",
      "[I 2019-01-14 01:10:39,604] Finished a trial resulted in value: 0.06677350427350426. Current best value is 0.02564102564102566 with parameters: {'n_estimators': 5, 'max_depth': 9, 'criterion': 'entropy'}.\n",
      "[I 2019-01-14 01:10:39,740] Finished a trial resulted in value: 0.05341880341880345. Current best value is 0.02564102564102566 with parameters: {'n_estimators': 5, 'max_depth': 9, 'criterion': 'entropy'}.\n",
      "[I 2019-01-14 01:10:39,853] Finished a trial resulted in value: 0.033119658119658224. Current best value is 0.02564102564102566 with parameters: {'n_estimators': 5, 'max_depth': 9, 'criterion': 'entropy'}.\n",
      "[I 2019-01-14 01:10:40,210] Finished a trial resulted in value: 0.051816239316239354. Current best value is 0.02564102564102566 with parameters: {'n_estimators': 5, 'max_depth': 9, 'criterion': 'entropy'}.\n",
      "[I 2019-01-14 01:10:40,381] Finished a trial resulted in value: 0.047542735042735096. Current best value is 0.02564102564102566 with parameters: {'n_estimators': 5, 'max_depth': 9, 'criterion': 'entropy'}.\n",
      "[I 2019-01-14 01:10:40,457] Finished a trial resulted in value: 0.06730769230769229. Current best value is 0.02564102564102566 with parameters: {'n_estimators': 5, 'max_depth': 9, 'criterion': 'entropy'}.\n",
      "[I 2019-01-14 01:10:40,770] Finished a trial resulted in value: 0.04006410256410253. Current best value is 0.02564102564102566 with parameters: {'n_estimators': 5, 'max_depth': 9, 'criterion': 'entropy'}.\n",
      "[I 2019-01-14 01:10:41,102] Finished a trial resulted in value: 0.0395299145299145. Current best value is 0.02564102564102566 with parameters: {'n_estimators': 5, 'max_depth': 9, 'criterion': 'entropy'}.\n",
      "[I 2019-01-14 01:10:41,443] Finished a trial resulted in value: 0.05982905982905984. Current best value is 0.02564102564102566 with parameters: {'n_estimators': 5, 'max_depth': 9, 'criterion': 'entropy'}.\n",
      "[I 2019-01-14 01:10:41,713] Finished a trial resulted in value: 0.05341880341880345. Current best value is 0.02564102564102566 with parameters: {'n_estimators': 5, 'max_depth': 9, 'criterion': 'entropy'}.\n",
      "[I 2019-01-14 01:10:41,911] Finished a trial resulted in value: 0.0673076923076924. Current best value is 0.02564102564102566 with parameters: {'n_estimators': 5, 'max_depth': 9, 'criterion': 'entropy'}.\n",
      "[I 2019-01-14 01:10:42,170] Finished a trial resulted in value: 0.04647435897435903. Current best value is 0.02564102564102566 with parameters: {'n_estimators': 5, 'max_depth': 9, 'criterion': 'entropy'}.\n",
      "[I 2019-01-14 01:10:42,312] Finished a trial resulted in value: 0.054487179487179516. Current best value is 0.02564102564102566 with parameters: {'n_estimators': 5, 'max_depth': 9, 'criterion': 'entropy'}.\n",
      "[I 2019-01-14 01:10:42,421] Finished a trial resulted in value: 0.05341880341880345. Current best value is 0.02564102564102566 with parameters: {'n_estimators': 5, 'max_depth': 9, 'criterion': 'entropy'}.\n",
      "[I 2019-01-14 01:10:42,746] Finished a trial resulted in value: 0.04647435897435903. Current best value is 0.02564102564102566 with parameters: {'n_estimators': 5, 'max_depth': 9, 'criterion': 'entropy'}.\n",
      "[I 2019-01-14 01:10:42,829] Finished a trial resulted in value: 0.05982905982905984. Current best value is 0.02564102564102566 with parameters: {'n_estimators': 5, 'max_depth': 9, 'criterion': 'entropy'}.\n",
      "[I 2019-01-14 01:10:43,277] Finished a trial resulted in value: 0.05341880341880345. Current best value is 0.02564102564102566 with parameters: {'n_estimators': 5, 'max_depth': 9, 'criterion': 'entropy'}.\n",
      "[I 2019-01-14 01:10:43,477] Finished a trial resulted in value: 0.052350427350427275. Current best value is 0.02564102564102566 with parameters: {'n_estimators': 5, 'max_depth': 9, 'criterion': 'entropy'}.\n",
      "[I 2019-01-14 01:10:43,665] Finished a trial resulted in value: 0.047008547008547064. Current best value is 0.02564102564102566 with parameters: {'n_estimators': 5, 'max_depth': 9, 'criterion': 'entropy'}.\n",
      "[I 2019-01-14 01:10:43,820] Finished a trial resulted in value: 0.040598290598290565. Current best value is 0.02564102564102566 with parameters: {'n_estimators': 5, 'max_depth': 9, 'criterion': 'entropy'}.\n",
      "[I 2019-01-14 01:10:43,917] Finished a trial resulted in value: 0.05288461538461542. Current best value is 0.02564102564102566 with parameters: {'n_estimators': 5, 'max_depth': 9, 'criterion': 'entropy'}.\n",
      "[I 2019-01-14 01:10:44,143] Finished a trial resulted in value: 0.05288461538461542. Current best value is 0.02564102564102566 with parameters: {'n_estimators': 5, 'max_depth': 9, 'criterion': 'entropy'}.\n",
      "[I 2019-01-14 01:10:44,548] Finished a trial resulted in value: 0.059294871794871806. Current best value is 0.02564102564102566 with parameters: {'n_estimators': 5, 'max_depth': 9, 'criterion': 'entropy'}.\n",
      "[I 2019-01-14 01:10:44,829] Finished a trial resulted in value: 0.058760683760683774. Current best value is 0.02564102564102566 with parameters: {'n_estimators': 5, 'max_depth': 9, 'criterion': 'entropy'}.\n",
      "[I 2019-01-14 01:10:44,929] Finished a trial resulted in value: 0.047542735042735096. Current best value is 0.02564102564102566 with parameters: {'n_estimators': 5, 'max_depth': 9, 'criterion': 'entropy'}.\n",
      "[I 2019-01-14 01:10:45,066] Finished a trial resulted in value: 0.052350427350427386. Current best value is 0.02564102564102566 with parameters: {'n_estimators': 5, 'max_depth': 9, 'criterion': 'entropy'}.\n",
      "[I 2019-01-14 01:10:45,162] Finished a trial resulted in value: 0.0395299145299145. Current best value is 0.02564102564102566 with parameters: {'n_estimators': 5, 'max_depth': 9, 'criterion': 'entropy'}.\n",
      "[I 2019-01-14 01:10:45,460] Finished a trial resulted in value: 0.047008547008547064. Current best value is 0.02564102564102566 with parameters: {'n_estimators': 5, 'max_depth': 9, 'criterion': 'entropy'}.\n",
      "[I 2019-01-14 01:10:45,821] Finished a trial resulted in value: 0.047542735042735096. Current best value is 0.02564102564102566 with parameters: {'n_estimators': 5, 'max_depth': 9, 'criterion': 'entropy'}.\n"
     ]
    },
    {
     "name": "stderr",
     "output_type": "stream",
     "text": [
      "[I 2019-01-14 01:10:46,037] Finished a trial resulted in value: 0.05395299145299148. Current best value is 0.02564102564102566 with parameters: {'n_estimators': 5, 'max_depth': 9, 'criterion': 'entropy'}.\n",
      "[I 2019-01-14 01:10:46,422] Finished a trial resulted in value: 0.05341880341880345. Current best value is 0.02564102564102566 with parameters: {'n_estimators': 5, 'max_depth': 9, 'criterion': 'entropy'}.\n",
      "[I 2019-01-14 01:10:46,532] Finished a trial resulted in value: 0.05288461538461542. Current best value is 0.02564102564102566 with parameters: {'n_estimators': 5, 'max_depth': 9, 'criterion': 'entropy'}.\n",
      "[I 2019-01-14 01:10:46,805] Finished a trial resulted in value: 0.05341880341880345. Current best value is 0.02564102564102566 with parameters: {'n_estimators': 5, 'max_depth': 9, 'criterion': 'entropy'}.\n",
      "[I 2019-01-14 01:10:47,108] Finished a trial resulted in value: 0.04594017094017089. Current best value is 0.02564102564102566 with parameters: {'n_estimators': 5, 'max_depth': 9, 'criterion': 'entropy'}.\n",
      "[I 2019-01-14 01:10:47,436] Finished a trial resulted in value: 0.03952991452991461. Current best value is 0.02564102564102566 with parameters: {'n_estimators': 5, 'max_depth': 9, 'criterion': 'entropy'}.\n",
      "[I 2019-01-14 01:10:47,567] Finished a trial resulted in value: 0.047008547008547064. Current best value is 0.02564102564102566 with parameters: {'n_estimators': 5, 'max_depth': 9, 'criterion': 'entropy'}.\n",
      "[I 2019-01-14 01:10:47,704] Finished a trial resulted in value: 0.06036324786324787. Current best value is 0.02564102564102566 with parameters: {'n_estimators': 5, 'max_depth': 9, 'criterion': 'entropy'}.\n",
      "[I 2019-01-14 01:10:47,970] Finished a trial resulted in value: 0.04807692307692313. Current best value is 0.02564102564102566 with parameters: {'n_estimators': 5, 'max_depth': 9, 'criterion': 'entropy'}.\n",
      "[I 2019-01-14 01:10:48,163] Finished a trial resulted in value: 0.05341880341880345. Current best value is 0.02564102564102566 with parameters: {'n_estimators': 5, 'max_depth': 9, 'criterion': 'entropy'}.\n",
      "[I 2019-01-14 01:10:48,537] Finished a trial resulted in value: 0.045940170940171. Current best value is 0.02564102564102566 with parameters: {'n_estimators': 5, 'max_depth': 9, 'criterion': 'entropy'}.\n",
      "[I 2019-01-14 01:10:48,881] Finished a trial resulted in value: 0.05288461538461542. Current best value is 0.02564102564102566 with parameters: {'n_estimators': 5, 'max_depth': 9, 'criterion': 'entropy'}.\n",
      "[I 2019-01-14 01:10:49,179] Finished a trial resulted in value: 0.047008547008547064. Current best value is 0.02564102564102566 with parameters: {'n_estimators': 5, 'max_depth': 9, 'criterion': 'entropy'}.\n",
      "[I 2019-01-14 01:10:49,550] Finished a trial resulted in value: 0.03899572649572647. Current best value is 0.02564102564102566 with parameters: {'n_estimators': 5, 'max_depth': 9, 'criterion': 'entropy'}.\n",
      "[I 2019-01-14 01:10:49,963] Finished a trial resulted in value: 0.04594017094017089. Current best value is 0.02564102564102566 with parameters: {'n_estimators': 5, 'max_depth': 9, 'criterion': 'entropy'}.\n",
      "[I 2019-01-14 01:10:50,202] Finished a trial resulted in value: 0.03899572649572647. Current best value is 0.02564102564102566 with parameters: {'n_estimators': 5, 'max_depth': 9, 'criterion': 'entropy'}.\n",
      "[I 2019-01-14 01:10:50,373] Finished a trial resulted in value: 0.03952991452991461. Current best value is 0.02564102564102566 with parameters: {'n_estimators': 5, 'max_depth': 9, 'criterion': 'entropy'}.\n",
      "[I 2019-01-14 01:10:50,460] Finished a trial resulted in value: 0.040598290598290676. Current best value is 0.02564102564102566 with parameters: {'n_estimators': 5, 'max_depth': 9, 'criterion': 'entropy'}.\n",
      "[I 2019-01-14 01:10:50,662] Finished a trial resulted in value: 0.059294871794871806. Current best value is 0.02564102564102566 with parameters: {'n_estimators': 5, 'max_depth': 9, 'criterion': 'entropy'}.\n",
      "[I 2019-01-14 01:10:50,997] Finished a trial resulted in value: 0.04594017094017089. Current best value is 0.02564102564102566 with parameters: {'n_estimators': 5, 'max_depth': 9, 'criterion': 'entropy'}.\n",
      "[I 2019-01-14 01:10:51,292] Finished a trial resulted in value: 0.047008547008547064. Current best value is 0.02564102564102566 with parameters: {'n_estimators': 5, 'max_depth': 9, 'criterion': 'entropy'}.\n",
      "[I 2019-01-14 01:10:51,444] Finished a trial resulted in value: 0.047008547008547064. Current best value is 0.02564102564102566 with parameters: {'n_estimators': 5, 'max_depth': 9, 'criterion': 'entropy'}.\n"
     ]
    }
   ],
   "source": [
    "study = optuna.create_study()\n",
    "study.optimize(objective, n_trials=100)"
   ]
  },
  {
   "cell_type": "code",
   "execution_count": 13,
   "metadata": {},
   "outputs": [
    {
     "name": "stdout",
     "output_type": "stream",
     "text": [
      "best mean accuracy: 0.974\n"
     ]
    }
   ],
   "source": [
    "print(\"best mean accuracy: {:.3f}\".format(1 - study.best_value))"
   ]
  },
  {
   "cell_type": "code",
   "execution_count": 14,
   "metadata": {},
   "outputs": [
    {
     "data": {
      "text/plain": [
       "{'n_estimators': 5, 'max_depth': 9, 'criterion': 'entropy'}"
      ]
     },
     "execution_count": 14,
     "metadata": {},
     "output_type": "execute_result"
    }
   ],
   "source": [
    "study.best_params"
   ]
  },
  {
   "cell_type": "code",
   "execution_count": 15,
   "metadata": {},
   "outputs": [
    {
     "data": {
      "text/html": [
       "<div>\n",
       "<style scoped>\n",
       "    .dataframe tbody tr th:only-of-type {\n",
       "        vertical-align: middle;\n",
       "    }\n",
       "\n",
       "    .dataframe tbody tr th {\n",
       "        vertical-align: top;\n",
       "    }\n",
       "\n",
       "    .dataframe thead tr th {\n",
       "        text-align: left;\n",
       "    }\n",
       "</style>\n",
       "<table border=\"1\" class=\"dataframe\">\n",
       "  <thead>\n",
       "    <tr>\n",
       "      <th></th>\n",
       "      <th>trial_id</th>\n",
       "      <th>state</th>\n",
       "      <th>value</th>\n",
       "      <th>datetime_start</th>\n",
       "      <th>datetime_complete</th>\n",
       "      <th colspan=\"3\" halign=\"left\">params</th>\n",
       "    </tr>\n",
       "    <tr>\n",
       "      <th></th>\n",
       "      <th></th>\n",
       "      <th></th>\n",
       "      <th></th>\n",
       "      <th></th>\n",
       "      <th></th>\n",
       "      <th>criterion</th>\n",
       "      <th>max_depth</th>\n",
       "      <th>n_estimators</th>\n",
       "    </tr>\n",
       "  </thead>\n",
       "  <tbody>\n",
       "    <tr>\n",
       "      <th>0</th>\n",
       "      <td>0</td>\n",
       "      <td>TrialState.COMPLETE</td>\n",
       "      <td>0.045406</td>\n",
       "      <td>2019-01-14 01:10:28.460801</td>\n",
       "      <td>2019-01-14 01:10:28.681210</td>\n",
       "      <td>entropy</td>\n",
       "      <td>4</td>\n",
       "      <td>60</td>\n",
       "    </tr>\n",
       "    <tr>\n",
       "      <th>1</th>\n",
       "      <td>1</td>\n",
       "      <td>TrialState.COMPLETE</td>\n",
       "      <td>0.045406</td>\n",
       "      <td>2019-01-14 01:10:28.684483</td>\n",
       "      <td>2019-01-14 01:10:28.929586</td>\n",
       "      <td>entropy</td>\n",
       "      <td>6</td>\n",
       "      <td>69</td>\n",
       "    </tr>\n",
       "    <tr>\n",
       "      <th>2</th>\n",
       "      <td>2</td>\n",
       "      <td>TrialState.COMPLETE</td>\n",
       "      <td>0.045940</td>\n",
       "      <td>2019-01-14 01:10:28.932799</td>\n",
       "      <td>2019-01-14 01:10:29.157936</td>\n",
       "      <td>entropy</td>\n",
       "      <td>3</td>\n",
       "      <td>65</td>\n",
       "    </tr>\n",
       "    <tr>\n",
       "      <th>3</th>\n",
       "      <td>3</td>\n",
       "      <td>TrialState.COMPLETE</td>\n",
       "      <td>0.046474</td>\n",
       "      <td>2019-01-14 01:10:29.162498</td>\n",
       "      <td>2019-01-14 01:10:29.423838</td>\n",
       "      <td>gini</td>\n",
       "      <td>10</td>\n",
       "      <td>77</td>\n",
       "    </tr>\n",
       "    <tr>\n",
       "      <th>4</th>\n",
       "      <td>4</td>\n",
       "      <td>TrialState.COMPLETE</td>\n",
       "      <td>0.052885</td>\n",
       "      <td>2019-01-14 01:10:29.426967</td>\n",
       "      <td>2019-01-14 01:10:29.494610</td>\n",
       "      <td>entropy</td>\n",
       "      <td>6</td>\n",
       "      <td>13</td>\n",
       "    </tr>\n",
       "  </tbody>\n",
       "</table>\n",
       "</div>"
      ],
      "text/plain": [
       "  trial_id                state     value             datetime_start  \\\n",
       "                                                                       \n",
       "0        0  TrialState.COMPLETE  0.045406 2019-01-14 01:10:28.460801   \n",
       "1        1  TrialState.COMPLETE  0.045406 2019-01-14 01:10:28.684483   \n",
       "2        2  TrialState.COMPLETE  0.045940 2019-01-14 01:10:28.932799   \n",
       "3        3  TrialState.COMPLETE  0.046474 2019-01-14 01:10:29.162498   \n",
       "4        4  TrialState.COMPLETE  0.052885 2019-01-14 01:10:29.426967   \n",
       "\n",
       "           datetime_complete    params                         \n",
       "                             criterion max_depth n_estimators  \n",
       "0 2019-01-14 01:10:28.681210   entropy         4           60  \n",
       "1 2019-01-14 01:10:28.929586   entropy         6           69  \n",
       "2 2019-01-14 01:10:29.157936   entropy         3           65  \n",
       "3 2019-01-14 01:10:29.423838      gini        10           77  \n",
       "4 2019-01-14 01:10:29.494610   entropy         6           13  "
      ]
     },
     "execution_count": 15,
     "metadata": {},
     "output_type": "execute_result"
    }
   ],
   "source": [
    "study.trials_dataframe().head()"
   ]
  },
  {
   "cell_type": "code",
   "execution_count": null,
   "metadata": {},
   "outputs": [],
   "source": []
  }
 ],
 "metadata": {
  "kernelspec": {
   "display_name": "Python3.6(pip)",
   "language": "python",
   "name": "py36pip"
  },
  "language_info": {
   "codemirror_mode": {
    "name": "ipython",
    "version": 3
   },
   "file_extension": ".py",
   "mimetype": "text/x-python",
   "name": "python",
   "nbconvert_exporter": "python",
   "pygments_lexer": "ipython3",
   "version": "3.6.6"
  },
  "toc": {
   "base_numbering": 1,
   "nav_menu": {},
   "number_sections": true,
   "sideBar": true,
   "skip_h1_title": true,
   "title_cell": "Table of Contents",
   "title_sidebar": "Contents",
   "toc_cell": false,
   "toc_position": {},
   "toc_section_display": true,
   "toc_window_display": false
  },
  "varInspector": {
   "cols": {
    "lenName": "30",
    "lenType": "30",
    "lenVar": 40
   },
   "kernels_config": {
    "python": {
     "delete_cmd_postfix": "",
     "delete_cmd_prefix": "del ",
     "library": "var_list.py",
     "varRefreshCmd": "print(var_dic_list())"
    },
    "r": {
     "delete_cmd_postfix": ") ",
     "delete_cmd_prefix": "rm(",
     "library": "var_list.r",
     "varRefreshCmd": "cat(var_dic_list()) "
    }
   },
   "types_to_exclude": [
    "module",
    "function",
    "builtin_function_or_method",
    "instance",
    "_Feature"
   ],
   "window_display": false
  }
 },
 "nbformat": 4,
 "nbformat_minor": 2
}
